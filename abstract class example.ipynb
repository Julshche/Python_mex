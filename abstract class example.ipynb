{
 "cells": [
  {
   "cell_type": "code",
   "execution_count": 38,
   "metadata": {},
   "outputs": [
    {
     "name": "stdout",
     "output_type": "stream",
     "text": [
      "Name : petrof s, gender = male, age = 19 attended_classes = 0\n",
      "Sory, you shall not pass\n",
      "Name : perof, gender = m, age = 8\n",
      "Name : sidorova, gender = female, age = 18 attended_classes = 11\n",
      "Best congratulations for passing exam\n"
     ]
    },
    {
     "data": {
      "text/plain": [
       "2"
      ]
     },
     "execution_count": 38,
     "metadata": {},
     "output_type": "execute_result"
    }
   ],
   "source": [
    "from abc import ABC, abstractmethod\n",
    "\n",
    "class Person(object):\n",
    "    \"\"\"Class Person\n",
    "\n",
    "\n",
    "    Attributes:\n",
    "        full_name: A string.\n",
    "        gender: Person gender.\n",
    "        age: Person age.\n",
    "\n",
    "    \"\"\"\n",
    "\n",
    "    def __init__(self, full_name, gender, age):\n",
    "        self.full_names = full_name\n",
    "        self.gender = gender\n",
    "        self.age = age\n",
    "        \n",
    "\n",
    "    def __str__(self):\n",
    "        \"\"\"Return person information\"\"\"\n",
    "        return \"Name : {0}, gender = {1}, age = {2}\".format(self.full_names, self.gender, self.age)\n",
    "\n",
    "class Student(ABC, Person):\n",
    "    \n",
    "    numInstances = 0 \n",
    "    \n",
    "    def __init__(self, full_name = \"\", gender  = \"male\", age  = 18, attended_classes = 0):\n",
    "        Person.__init__(self, full_name, gender, age)\n",
    "        self.attended_classes = attended_classes\n",
    "        Student.numInstances += 1\n",
    "        \n",
    "    def __str__(self):\n",
    "        s = Person.__str__(self)\n",
    "        return s + \" attended_classes = {0}\".format(self.attended_classes)\n",
    "    \n",
    "    def printNumInstances():\n",
    "        print('Number of instances:', Student.numInstances)\n",
    "    printNumInstances = staticmethod(printNumInstances)\n",
    "    \n",
    "    @abstractmethod\n",
    "    def test(self):\n",
    "        \"\"\"\"Return bool attribute if student pass exam\"\"\"\n",
    "        pass\n",
    "    \n",
    "class Ordinary(Student):\n",
    "    \n",
    "     def test(self):\n",
    "            if (self.attended_classes >20):\n",
    "                return \"Best congratulations for passing exam\"\n",
    "            return \"Sory, you shall not pass\"\n",
    "\n",
    "class Clever (Student):\n",
    "    \n",
    "     def test(self):\n",
    "            if (self.attended_classes >10):\n",
    "                return \"Best congratulations for passing exam\"\n",
    "            return \"Sory, you shall not pass\" \n",
    "        \n",
    "class Genius (Student):\n",
    "    \n",
    "     def test(self):\n",
    "            if (self.attended_classes >= 1):\n",
    "                return \"Best congratulations for passing exam\"\n",
    "            return \"Sory, you shall not pass\" \n",
    "        \n",
    "a = Genius(\"petrof s\", age = 19)\n",
    "print(a)\n",
    "print(a.test())\n",
    "b = Person(\"perof\",'m',8)\n",
    "print(b)\n",
    "c = Clever(\"sidorova\", gender= \"female\", attended_classes= 11)\n",
    "print(c)\n",
    "print(c.test())\n",
    "c.numInstances # количество созданных студентов\n"
   ]
  },
  {
   "cell_type": "code",
   "execution_count": 37,
   "metadata": {},
   "outputs": [
    {
     "ename": "TypeError",
     "evalue": "Can't instantiate abstract class Student with abstract methods test",
     "output_type": "error",
     "traceback": [
      "\u001b[1;31m---------------------------------------------------------------------------\u001b[0m",
      "\u001b[1;31mTypeError\u001b[0m                                 Traceback (most recent call last)",
      "\u001b[1;32m<ipython-input-37-249e4e002375>\u001b[0m in \u001b[0;36m<module>\u001b[1;34m\u001b[0m\n\u001b[1;32m----> 1\u001b[1;33m \u001b[0md\u001b[0m \u001b[1;33m=\u001b[0m \u001b[0mStudent\u001b[0m\u001b[1;33m(\u001b[0m\u001b[1;33m)\u001b[0m\u001b[1;33m\u001b[0m\u001b[1;33m\u001b[0m\u001b[0m\n\u001b[0m\u001b[0;32m      2\u001b[0m \u001b[0mprint\u001b[0m\u001b[1;33m(\u001b[0m\u001b[0md\u001b[0m\u001b[1;33m)\u001b[0m\u001b[1;33m\u001b[0m\u001b[1;33m\u001b[0m\u001b[0m\n",
      "\u001b[1;31mTypeError\u001b[0m: Can't instantiate abstract class Student with abstract methods test"
     ]
    }
   ],
   "source": [
    "d = Student()\n",
    "print(d)"
   ]
  },
  {
   "cell_type": "code",
   "execution_count": null,
   "metadata": {},
   "outputs": [],
   "source": []
  },
  {
   "cell_type": "code",
   "execution_count": 35,
   "metadata": {},
   "outputs": [
    {
     "name": "stdout",
     "output_type": "stream",
     "text": [
      "Drew a chess piece\n",
      "Moved Queen to e2e4\n"
     ]
    },
    {
     "ename": "TypeError",
     "evalue": "Can't instantiate abstract class ChessPiece with abstract methods move",
     "output_type": "error",
     "traceback": [
      "\u001b[1;31m---------------------------------------------------------------------------\u001b[0m",
      "\u001b[1;31mTypeError\u001b[0m                                 Traceback (most recent call last)",
      "\u001b[1;32m<ipython-input-35-63be59390617>\u001b[0m in \u001b[0;36m<module>\u001b[1;34m\u001b[0m\n\u001b[0;32m     21\u001b[0m \u001b[0mq\u001b[0m\u001b[1;33m.\u001b[0m\u001b[0mmove\u001b[0m\u001b[1;33m(\u001b[0m\u001b[1;33m)\u001b[0m\u001b[1;33m\u001b[0m\u001b[1;33m\u001b[0m\u001b[0m\n\u001b[0;32m     22\u001b[0m \u001b[1;33m\u001b[0m\u001b[0m\n\u001b[1;32m---> 23\u001b[1;33m \u001b[0ma\u001b[0m \u001b[1;33m=\u001b[0m \u001b[0mChessPiece\u001b[0m\u001b[1;33m(\u001b[0m\u001b[1;33m)\u001b[0m\u001b[1;33m\u001b[0m\u001b[1;33m\u001b[0m\u001b[0m\n\u001b[0m",
      "\u001b[1;31mTypeError\u001b[0m: Can't instantiate abstract class ChessPiece with abstract methods move"
     ]
    }
   ],
   "source": [
    "from abc import ABC, abstractmethod\n",
    " \n",
    "class ChessPiece(ABC):\n",
    "    # общий метод, который будут использовать все наследники этого класса\n",
    "    def draw(self):\n",
    "        print(\"Drew a chess piece\")\n",
    " \n",
    "    # абстрактный метод, который будет необходимо переопределять для каждого подкласса\n",
    "    @abstractmethod\n",
    "    def move(self):\n",
    "        pass\n",
    "    \n",
    "class Queen(ChessPiece):\n",
    "    def move(self):\n",
    "        print(\"Moved Queen to e2e4\")\n",
    " \n",
    "# Мы можем создать экземпляр класса\n",
    "q = Queen()\n",
    "# И нам доступны все методы класса\n",
    "q.draw()\n",
    "q.move()\n",
    "\n",
    "a = ChessPiece()"
   ]
  },
  {
   "cell_type": "code",
   "execution_count": null,
   "metadata": {},
   "outputs": [],
   "source": []
  }
 ],
 "metadata": {
  "kernelspec": {
   "display_name": "Python 3",
   "language": "python",
   "name": "python3"
  },
  "language_info": {
   "codemirror_mode": {
    "name": "ipython",
    "version": 3
   },
   "file_extension": ".py",
   "mimetype": "text/x-python",
   "name": "python",
   "nbconvert_exporter": "python",
   "pygments_lexer": "ipython3",
   "version": "3.7.1"
  }
 },
 "nbformat": 4,
 "nbformat_minor": 2
}
