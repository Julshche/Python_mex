{
 "cells": [
  {
   "cell_type": "markdown",
   "metadata": {},
   "source": [
    "Модули\n",
    "=======\n",
    "Как правило, программа на языке **Python** состоит из множества текстовых файлов, содержащих инструкции. Программа организована как один главный файл,\n",
    "к которому могут подключаться дополнительные файлы, известные как модули.\n",
    "\n",
    "Каждый файл – это\n",
    "отдельный модуль, и модули могут импортировать другие модули для доступа\n",
    "к именам, которые в них определены. \n",
    "\n",
    "Чтобы получить доступ к определенным в модуле инструментам,\n",
    "именующимся **атрибутами** модуля (имена переменных, связанные с такими\n",
    "объектами, как функции), в языке **Python** необходимо импортировать этот\n",
    "модуль. \n",
    "\n",
    "Обработка модулей выполняется двумя инструкциями и одной важной функцией:\n",
    "- **import** Позволяет клиентам (импортерам) получать модуль целиком.\n",
    "- **from** Позволяет клиентам получать определенные имена из модуля.\n",
    "- **imp.reload** Обеспечивает возможность повторной загрузки модуля без остановки интерпретатора **Python**.\n",
    "\n",
    "Пример: Создадим файл modul_example.py\n",
    "Код:\n",
    "\n",
    "        def spam(text):\n",
    "            print(text, \"spam\")"
   ]
  },
  {
   "cell_type": "code",
   "execution_count": 10,
   "metadata": {},
   "outputs": [
    {
     "name": "stdout",
     "output_type": "stream",
     "text": [
      "Hi spam\n"
     ]
    }
   ],
   "source": [
    "import modul_example\n",
    "modul_example.spam(\"Hi\")"
   ]
  },
  {
   "cell_type": "markdown",
   "metadata": {},
   "source": [
    "**Как работает импорт**\n",
    "\n",
    "В языке **Python** импортирование модуля - это не просто включение текста одного файла в другой.\n",
    "Это самые настоящие операции времени выполнения, которые выполняют следующие действия, когда программа впервые импортирует заданный файл:\n",
    "\n",
    "1. Отыскивают файл модуля.\n",
    "2. Компилируют в байт-код (если это необходимо).\n",
    "3. Запускают программный код модуля, чтобы создать объекты, которые он определяет.\n",
    "\n",
    "! Важно, импортирование происходит один раз, когда модуль впервые импортируется. Если вам необходимо импортировать повторно, используется функция **imp.reload**"
   ]
  },
  {
   "cell_type": "markdown",
   "metadata": {},
   "source": [
    "**1. Как работает поиск**\n",
    "\n",
    " В большинстве случаев можно положиться на автоматически организованные\n",
    "пути поиска модулей и вообще не настраивать этот путь. Однако, если вам потребуется импортировать модули из пользовательских каталогов, вам необходимо будет знать, как работает путь поиска файлов, чтобы настроить его соответствующим образом.\n",
    "\n",
    "Поиск происходит в следующих основных источниках:\n",
    "\n",
    "1. Домашний каталог программы.\n",
    "2. Содержимое переменной окружения PYTHONPATH (если таковая определена). \n",
    "    После поиска в домашнем каталоге производится поиск во всех каталогах, перечисленных в переменной окружения PYTHONPATH, слева направо. В двух словах, переменная окружения PYTHONPATH – это просто список имен каталогов, определяемых пользователем и системой, в которых располагаются файлы с программным кодом на языке Python. Вы можете добавить в эту переменную все каталоги, откуда предполагается импортировать модули\n",
    "3. Каталоги стандартной библиотеки. \n",
    "4. Содержимое любых файлов с расширением **.pth** (если таковые имеются). \n",
    "\n",
    "Если вам потребуется узнать, как выглядит путь поиска на вашей машине, вы\n",
    "всегда сможете сделать это, просмотрев содержимое встроенного списка **sys.path**"
   ]
  },
  {
   "cell_type": "code",
   "execution_count": 2,
   "metadata": {},
   "outputs": [
    {
     "data": {
      "text/plain": [
       "['C:\\\\Users\\\\YuShc\\\\Documents\\\\Untitled Folder',\n",
       " 'C:\\\\Users\\\\YuShc\\\\Anaconda3\\\\python37.zip',\n",
       " 'C:\\\\Users\\\\YuShc\\\\Anaconda3\\\\DLLs',\n",
       " 'C:\\\\Users\\\\YuShc\\\\Anaconda3\\\\lib',\n",
       " 'C:\\\\Users\\\\YuShc\\\\Anaconda3',\n",
       " '',\n",
       " 'C:\\\\Users\\\\YuShc\\\\Anaconda3\\\\lib\\\\site-packages',\n",
       " 'C:\\\\Users\\\\YuShc\\\\Anaconda3\\\\lib\\\\site-packages\\\\win32',\n",
       " 'C:\\\\Users\\\\YuShc\\\\Anaconda3\\\\lib\\\\site-packages\\\\win32\\\\lib',\n",
       " 'C:\\\\Users\\\\YuShc\\\\Anaconda3\\\\lib\\\\site-packages\\\\Pythonwin',\n",
       " 'C:\\\\Users\\\\YuShc\\\\Anaconda3\\\\lib\\\\site-packages\\\\IPython\\\\extensions',\n",
       " 'C:\\\\Users\\\\YuShc\\\\.ipython']"
      ]
     },
     "execution_count": 2,
     "metadata": {},
     "output_type": "execute_result"
    }
   ],
   "source": [
    "import sys\n",
    "sys.path"
   ]
  },
  {
   "cell_type": "markdown",
   "metadata": {},
   "source": [
    "Имейте в виду, что расширения имен файлов (например, **.py**) преднамеренно\n",
    "опущены в инструкции **import**. Интерпретатор выбирает первый найденный\n",
    "в пути поиска файл, который соответствует указанному имени."
   ]
  },
  {
   "cell_type": "markdown",
   "metadata": {},
   "source": [
    "**2. Компиляция (если необходимо)**\n",
    "\n",
    "После того как в пути поиска модулей будет найден файл, соответствующий\n",
    "имени в инструкции **import**, интерпретатор компилирует его в байт-код, если\n",
    "это необходимо (если файл с байт-кодом **.pyc** старше, чем\n",
    "соответствующий ему файл **.py** с исходным текстом). Кроме того, если **Python**\n",
    "обнаружит в пути поиска только файл с байт-кодом и не найдет файл с исходным текстом, он просто загрузит байт-код (это означает, что вы можете распространять свою программу исключительно в виде файлов с байт-кодом и не\n",
    "передавать файлы с исходными текстами)."
   ]
  },
  {
   "cell_type": "markdown",
   "metadata": {},
   "source": [
    "Использование модуля\n",
    "-----------"
   ]
  },
  {
   "cell_type": "markdown",
   "metadata": {},
   "source": [
    "Поскольку имена модулей внутри программы превращаются в имена переменных (без расширения .py), они также должны следовать правилам именования обычных переменных.\n",
    "\n",
    "**Инструкция import**\n",
    "\n",
    "Так как в результате выполнения инструкции **import** в сценарии появляется\n",
    "имя, ссылающееся на полный объект модуля, то необходимо использовать\n",
    "имя модуля при обращении к его атрибутам:\n"
   ]
  },
  {
   "cell_type": "code",
   "execution_count": 3,
   "metadata": {},
   "outputs": [
    {
     "data": {
      "text/plain": [
       "3.0"
      ]
     },
     "execution_count": 3,
     "metadata": {},
     "output_type": "execute_result"
    }
   ],
   "source": [
    "import math\n",
    "math.sqrt(9)"
   ]
  },
  {
   "cell_type": "markdown",
   "metadata": {},
   "source": [
    "**Использование псевдонимов**\n",
    "\n",
    "Если название модуля слишком длинное, или оно вам не нравится по каким-то другим причинам, то для него можно создать псевдоним, с помощью ключевого слова **as**."
   ]
  },
  {
   "cell_type": "code",
   "execution_count": 33,
   "metadata": {},
   "outputs": [
    {
     "data": {
      "text/plain": [
       "'work'"
      ]
     },
     "execution_count": 33,
     "metadata": {},
     "output_type": "execute_result"
    }
   ],
   "source": [
    "from snowballstemmer import EnglishStemmer as en_stemmer\n",
    "en_stemmer().stemWord(\"working\")"
   ]
  },
  {
   "cell_type": "markdown",
   "metadata": {},
   "source": [
    "* Понравился модуль? вот еще\n",
    "\n",
    "https://tproger.ru/translations/10-python-libraries-you-might-not-know/\n",
    "\n",
    "https://proglib.io/p/python-modules/\n",
    "\n",
    "ну и погуглите сами"
   ]
  },
  {
   "cell_type": "markdown",
   "metadata": {},
   "source": [
    "**Инструкция from**\n",
    "\n",
    "Инструкция **from**, напротив, копирует имена из области видимости одного файла в область видимости другого, что позволяет непосредственно использовать\n",
    "скопированные имена, не предваряя их именем модуля:\n"
   ]
  },
  {
   "cell_type": "code",
   "execution_count": 4,
   "metadata": {},
   "outputs": [
    {
     "data": {
      "text/plain": [
       "2.0"
      ]
     },
     "execution_count": 4,
     "metadata": {},
     "output_type": "execute_result"
    }
   ],
   "source": [
    "from math import sqrt\n",
    "sqrt(4)"
   ]
  },
  {
   "cell_type": "markdown",
   "metadata": {},
   "source": [
    "**Инструкция from \\***\n"
   ]
  },
  {
   "cell_type": "markdown",
   "metadata": {},
   "source": [
    "В языке **Python** предусмотрена возможность импорта всех функций, переменных и модулей за раз. \n",
    "\n",
    "С технической точки зрения обе инструкции, **from** и **import**, вызывают одну и ту\n",
    "же операцию импорта, просто форма **from \\*** дополнительно выполняет копирование всех имен в импортируемом модуле в область видимости, откуда производится импорт. По сути происходит совмещение пространств имен модулей,\n",
    "что позволяет нам меньше вводить с клавиатуры.\n",
    "\n",
    "Однако, это может быть плохой идеей, так как такой импорт может засорить ваше пространство имен. Пространство имен – это место, в котором находятся все ваши переменные, пока работает программа."
   ]
  },
  {
   "cell_type": "code",
   "execution_count": 5,
   "metadata": {},
   "outputs": [
    {
     "ename": "TypeError",
     "evalue": "'int' object is not callable",
     "output_type": "error",
     "traceback": [
      "\u001b[1;31m---------------------------------------------------------------------------\u001b[0m",
      "\u001b[1;31mTypeError\u001b[0m                                 Traceback (most recent call last)",
      "\u001b[1;32m<ipython-input-5-b95a5db648c2>\u001b[0m in \u001b[0;36m<module>\u001b[1;34m\u001b[0m\n\u001b[0;32m      1\u001b[0m \u001b[0msqrt\u001b[0m \u001b[1;33m=\u001b[0m \u001b[1;36m5\u001b[0m\u001b[1;33m\u001b[0m\u001b[1;33m\u001b[0m\u001b[0m\n\u001b[1;32m----> 2\u001b[1;33m \u001b[0msqrt\u001b[0m\u001b[1;33m(\u001b[0m\u001b[1;36m4\u001b[0m\u001b[1;33m)\u001b[0m\u001b[1;33m\u001b[0m\u001b[1;33m\u001b[0m\u001b[0m\n\u001b[0m",
      "\u001b[1;31mTypeError\u001b[0m: 'int' object is not callable"
     ]
    }
   ],
   "source": [
    "sqrt = 5\n",
    "sqrt(4)"
   ]
  },
  {
   "cell_type": "markdown",
   "metadata": {},
   "source": [
    " Какие сейчас переменные доступны в  локальной области памяти:"
   ]
  },
  {
   "cell_type": "code",
   "execution_count": 6,
   "metadata": {},
   "outputs": [
    {
     "name": "stdout",
     "output_type": "stream",
     "text": [
      "['In', 'Out', '_', '_2', '_3', '_4', '__', '___', '__builtin__', '__builtins__', '__doc__', '__loader__', '__name__', '__package__', '__spec__', '_dh', '_i', '_i1', '_i2', '_i3', '_i4', '_i5', '_i6', '_ih', '_ii', '_iii', '_oh', 'exit', 'get_ipython', 'math', 'modul_example', 'quit', 'sqrt', 'sys'] "
     ]
    }
   ],
   "source": [
    "print(dir(), end =\" \")\n"
   ]
  },
  {
   "cell_type": "code",
   "execution_count": 7,
   "metadata": {},
   "outputs": [],
   "source": [
    "from math import *"
   ]
  },
  {
   "cell_type": "markdown",
   "metadata": {},
   "source": [
    "А теперь:"
   ]
  },
  {
   "cell_type": "code",
   "execution_count": 8,
   "metadata": {},
   "outputs": [
    {
     "name": "stdout",
     "output_type": "stream",
     "text": [
      "['In', 'Out', '_', '_2', '_3', '_4', '__', '___', '__builtin__', '__builtins__', '__doc__', '__loader__', '__name__', '__package__', '__spec__', '_dh', '_i', '_i1', '_i2', '_i3', '_i4', '_i5', '_i6', '_i7', '_i8', '_ih', '_ii', '_iii', '_oh', 'acos', 'acosh', 'asin', 'asinh', 'atan', 'atan2', 'atanh', 'ceil', 'copysign', 'cos', 'cosh', 'degrees', 'e', 'erf', 'erfc', 'exit', 'exp', 'expm1', 'fabs', 'factorial', 'floor', 'fmod', 'frexp', 'fsum', 'gamma', 'gcd', 'get_ipython', 'hypot', 'inf', 'isclose', 'isfinite', 'isinf', 'isnan', 'ldexp', 'lgamma', 'log', 'log10', 'log1p', 'log2', 'math', 'modf', 'modul_example', 'nan', 'pi', 'pow', 'quit', 'radians', 'remainder', 'sin', 'sinh', 'sqrt', 'sys', 'tan', 'tanh', 'tau', 'trunc'] "
     ]
    }
   ],
   "source": [
    "print(dir(), end =\" \")"
   ]
  },
  {
   "cell_type": "markdown",
   "metadata": {},
   "source": [
    "Модули загружаются и запускаются первой, и только первой инструкцией import или from. Реализовано такое поведение преднамеренно, потому что импортирование – это дорогостоящая операция и интерпретатор выполняет ее всего\n",
    "один раз за все время работы. Последующие операции импорта просто получают объект уже загруженного модуля.\n",
    "\n",
    "Для примера попробуйте добавить в код **modul_example** переменную num со значением один и еще раз импортируйте модуль **modul_example.py**"
   ]
  },
  {
   "cell_type": "code",
   "execution_count": 1,
   "metadata": {},
   "outputs": [
    {
     "ename": "AttributeError",
     "evalue": "module 'modul_example' has no attribute 'num'",
     "output_type": "error",
     "traceback": [
      "\u001b[1;31m---------------------------------------------------------------------------\u001b[0m",
      "\u001b[1;31mAttributeError\u001b[0m                            Traceback (most recent call last)",
      "\u001b[1;32m<ipython-input-1-dc489f18d2ee>\u001b[0m in \u001b[0;36m<module>\u001b[1;34m\u001b[0m\n\u001b[0;32m      1\u001b[0m \u001b[1;32mimport\u001b[0m \u001b[0mmodul_example\u001b[0m\u001b[1;33m\u001b[0m\u001b[1;33m\u001b[0m\u001b[0m\n\u001b[1;32m----> 2\u001b[1;33m \u001b[0mmodul_example\u001b[0m\u001b[1;33m.\u001b[0m\u001b[0mnum\u001b[0m\u001b[1;33m\u001b[0m\u001b[1;33m\u001b[0m\u001b[0m\n\u001b[0m",
      "\u001b[1;31mAttributeError\u001b[0m: module 'modul_example' has no attribute 'num'"
     ]
    }
   ],
   "source": [
    "import modul_example\n",
    "modul_example.num"
   ]
  },
  {
   "cell_type": "code",
   "execution_count": 2,
   "metadata": {},
   "outputs": [
    {
     "data": {
      "text/plain": [
       "<module 'modul_example' from 'C:\\\\Users\\\\YuShc\\\\Documents\\\\Untitled Folder\\\\modul_example.py'>"
      ]
     },
     "execution_count": 2,
     "metadata": {},
     "output_type": "execute_result"
    }
   ],
   "source": [
    "import importlib\n",
    "importlib.reload(modul_example) "
   ]
  },
  {
   "cell_type": "code",
   "execution_count": 3,
   "metadata": {},
   "outputs": [
    {
     "data": {
      "text/plain": [
       "1"
      ]
     },
     "execution_count": 3,
     "metadata": {},
     "output_type": "execute_result"
    }
   ],
   "source": [
    "modul_example.num"
   ]
  },
  {
   "cell_type": "markdown",
   "metadata": {},
   "source": [
    " Функция **reload** позволяет изменять части программы, не останавливая всю программу. Благодаря функции reload эффект от изменений в программном коде можно наблюдать\n",
    "сразу же после внесения этих изменений"
   ]
  },
  {
   "cell_type": "markdown",
   "metadata": {},
   "source": [
    "**Инструкции import и from – операции присваивания**\n",
    "\n",
    "Так же, как и инструкция **def**, инструкции **import** и **from** являются выполняемыми инструкциями, а не объявлениями времени компиляции. Они могут\n",
    "вкладываться в условные инструкции **if**, присутствовать в объявлениях функций **def** и так далее, и они не имеют никакого эффекта, пока интерпретатор не\n",
    "достигнет их в ходе выполнения программы.\n",
    "\n",
    "Для примера создадим файл modul_example2.py и объявим в нем две переменные:\n",
    "\n",
    "        x = 1\n",
    "        y = [1, 4, 6]"
   ]
  },
  {
   "cell_type": "code",
   "execution_count": 1,
   "metadata": {},
   "outputs": [],
   "source": [
    "from modul_example2 import x, y\n",
    "x = 33\n",
    "y[0] = \"hi\""
   ]
  },
  {
   "cell_type": "code",
   "execution_count": 25,
   "metadata": {},
   "outputs": [
    {
     "name": "stdout",
     "output_type": "stream",
     "text": [
      "1 ['hi', 4, 6]\n"
     ]
    }
   ],
   "source": [
    "import modul_example2\n",
    "print(modul_example2.x, modul_example2.y)"
   ]
  },
  {
   "cell_type": "markdown",
   "metadata": {},
   "source": [
    "\n",
    "Здесь **\"x\"** \n",
    "не является разделяемым изменяемым объектом, а вот **\"y\"** – является.\n",
    "Имена **y** в импортирующем и импортируемом модулях ссылаются на один и тот\n",
    "же объект списка, поэтому изменения, произведенные в одном модуле, будут\n",
    "видны в другом модул"
   ]
  },
  {
   "cell_type": "markdown",
   "metadata": {},
   "source": [
    "Чтобы действительно изменить глобальное имя в другом файле,\n",
    "необходимо использовать инструкцию **import**  и имя модуля для доступа к атрибуту:"
   ]
  },
  {
   "cell_type": "code",
   "execution_count": 30,
   "metadata": {},
   "outputs": [
    {
     "name": "stdout",
     "output_type": "stream",
     "text": [
      "0 33\n"
     ]
    }
   ],
   "source": [
    "modul_example2.x = 0\n",
    "print(modul_example2.x, x) "
   ]
  },
  {
   "cell_type": "markdown",
   "metadata": {},
   "source": [
    "Рекомендации по использованию импорта:\n",
    "https://realpython.com/absolute-vs-relative-python-imports/\n",
    "\n",
    "отдавать предпочтение инструкции **import** для простых модулей, явно перечислять необходимые переменные в инструкциях **from** и не использовать форму **from \\*** для импорта более\n",
    "чем одного файла в модуле."
   ]
  },
  {
   "cell_type": "markdown",
   "metadata": {},
   "source": [
    "**Модуль можно использовать как самостоятельную программу**\n",
    "\n",
    "Когда импортируется модуль, то его код выполняется полностью. Допустим, мы хотим чтоб реализовывалось разное поведение  в зависимости от того, как запускается модуль.\n",
    "\n",
    "Каждый\n",
    "модуль обладает встроенным атрибутом **\\_\\_name\\_\\_**, который устанавливается\n",
    "интерпретатором следующим образом:\n",
    "\n",
    "- Если файл запускается как главный файл программы, атрибуту **\\_\\_name\\_\\_** на запуске присваивается значение **“\\_\\_main\\_\\_”**.\n",
    "- Если файл импортируется, атрибуту **\\_\\_name\\_\\_** присваивается имя модуля,\n",
    "под которым он будет известен клиенту."
   ]
  },
  {
   "cell_type": "markdown",
   "metadata": {},
   "source": [
    "Благодаря этому модуль может проверить собственный атрибут **\\_\\_name\\_\\_**\n",
    "и определить, был ли он запущен как самостоятельная программа или импортирован другим модулем. Например, предположим, что мы создаем файл модуля с именем **fibo.py**, который экспортирует функцию с именем **fib**:\n",
    "\n",
    "      def hello():\n",
    "          print('Hello, this is my fibo')\n",
    "\n",
    "      def fib(n):\n",
    "          a = b = 1\n",
    "          for i in range(n - 2):\n",
    "            a, b = b, a + b\n",
    "          return b\n",
    "\n",
    "      if __name__ == \"__main__\":\n",
    "            hello()\n",
    "            for i in range(10):\n",
    "                print(fib(i))"
   ]
  },
  {
   "cell_type": "code",
   "execution_count": 40,
   "metadata": {},
   "outputs": [
    {
     "data": {
      "text/plain": [
       "3"
      ]
     },
     "execution_count": 40,
     "metadata": {},
     "output_type": "execute_result"
    }
   ],
   "source": [
    "#import fibo\n",
    "importlib.reload(fibo) \n",
    "fibo.fib(4)"
   ]
  },
  {
   "cell_type": "code",
   "execution_count": 41,
   "metadata": {},
   "outputs": [
    {
     "name": "stdout",
     "output_type": "stream",
     "text": [
      "Hello, this is my fibo\n",
      "1\n",
      "1\n",
      "2\n",
      "3\n",
      "5\n",
      "8\n",
      "13\n",
      "21\n",
      "34\n"
     ]
    }
   ],
   "source": [
    "%run fibo.py"
   ]
  },
  {
   "cell_type": "markdown",
   "metadata": {},
   "source": [
    "Сокрытие данных в модулях\n",
    "-----------\n"
   ]
  },
  {
   "cell_type": "markdown",
   "metadata": {},
   "source": [
    "Как мы уже видели, модули в языке **Python** экспортируют все имена, которым\n",
    "были присвоены значения на верхнем уровне файлов. В языке нет никаких\n",
    "объявлений, которые позволили бы сделать одни имена видимыми, а другие –\n",
    "невидимыми за пределами модуля. \n",
    "\n",
    "Сокрытие данных модуля в языке **Python** регулируется соглашениями, а не\n",
    "синтаксическими конструкциями.\n",
    "\n",
    "1. именя вида \\_X\n",
    "\n",
    "Как особый случай, существует возможность начинать имена переменных\n",
    "с одного символа подчеркивания, чтобы предотвратить их перезаписывание, когда клиент выполняет импортирование модуля инструкцией **from \\***.\n",
    "\n",
    "Символы подчеркивания не являются объявлением «частных» данных: вы по-прежнему\n",
    "можете видеть эти имена и изменять их с помощью других форм импортирования, таких как инструкция import.\n",
    "\n",
    "2. Заключение имен переменных в списке **\\_\\_all\\_\\_**\n",
    "\n",
    "            __all__ = [“Error”, “encode”, “decode”]    # Экспортируются только эти имена\n",
    "            \n",
    "При использовании этого приема инструкция from * будет копировать только\n",
    "имена, перечисленные в списке **\\_\\_all\\_\\_**. В действительности это соглашение,\n",
    "обратное соглашению **\\_X**: переменная **\\_\\_all\\_\\_** идентифицирует имена, доступные для копирования, тогда как соглашение **\\_X** идентифицирует имена, недоступные для копирования."
   ]
  },
  {
   "cell_type": "code",
   "execution_count": null,
   "metadata": {},
   "outputs": [],
   "source": []
  }
 ],
 "metadata": {
  "kernelspec": {
   "display_name": "Python 3",
   "language": "python",
   "name": "python3"
  },
  "language_info": {
   "codemirror_mode": {
    "name": "ipython",
    "version": 3
   },
   "file_extension": ".py",
   "mimetype": "text/x-python",
   "name": "python",
   "nbconvert_exporter": "python",
   "pygments_lexer": "ipython3",
   "version": "3.7.1"
  }
 },
 "nbformat": 4,
 "nbformat_minor": 2
}
