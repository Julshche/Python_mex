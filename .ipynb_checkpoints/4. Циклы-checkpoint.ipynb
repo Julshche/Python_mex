{
 "cells": [
  {
   "cell_type": "markdown",
   "metadata": {},
   "source": [
    "**While**\n",
    "=======\n",
    "\n",
    "    while <test>:          # Условное выражение test\n",
    "        <statements1>      # Тело цикла\n",
    "    else:                  # Необязательная часть else\n",
    "        <statements2>      # Выполняется, если выход из цикла производится не\n",
    "                           # инструкцией break"
   ]
  },
  {
   "cell_type": "code",
   "execution_count": 3,
   "metadata": {},
   "outputs": [
    {
     "name": "stdout",
     "output_type": "stream",
     "text": [
      "spam pam am m "
     ]
    }
   ],
   "source": [
    "x = 'spam'\n",
    "while x: # Пока x не пустая строка\n",
    "    print(x, end=' ')\n",
    "    x = x[1:] # Вырезать первый символ из x"
   ]
  },
  {
   "cell_type": "code",
   "execution_count": 5,
   "metadata": {},
   "outputs": [
    {
     "name": "stdout",
     "output_type": "stream",
     "text": [
      "your power is 5.\n",
      "your power is 4.\n",
      "your power is 3.\n",
      "your power is 2.\n",
      "your power is 1.\n",
      "\n",
      "Oh no, your power dropped to 0! Game Over.\n"
     ]
    }
   ],
   "source": [
    "power = 5\n",
    "\n",
    "# Играть можно пока сил не станет - 0.\n",
    "while power > 0:\n",
    "    print(F\"your power is {power}.\")\n",
    "    power = power - 1\n",
    "else:    \n",
    "    print(\"\\nOh no, your power dropped to 0! Game Over.\")"
   ]
  },
  {
   "cell_type": "markdown",
   "metadata": {},
   "source": [
    "**break, continue, pass и else**\n",
    "============\n",
    "\n",
    "- **break** Производит переход за пределы объемлющего цикла (всей инструкции цикла).\n",
    "- **continue** Производит переход в начало цикла (в строку заголовка).\n",
    "- **pass** Ничего не делает: это пустая инструкция, используемая как заполнитель.\n",
    "- Блок **else** Выполняется, только если цикл завершился обычным образом (без использования инструкции break).\n",
    "\n",
    "С учетом инструкций **break** и **continue** цикл **while** в общем виде выглядит, как показано ниже:\n",
    "        \n",
    "        while <test1>:\n",
    "            <statements1>\n",
    "            if <test2>: break    # Выйти из цикла, пропустив часть else\n",
    "            if <test3>: continue # Перейти в начало цикла, к выражению test1\n",
    "        else:\n",
    "            <statements2>        # Выполняется, если не была использована\n",
    "                                 # инструкция ‘break’\n",
    "                                 \n",
    "Использование Continue\n",
    "---------"
   ]
  },
  {
   "cell_type": "code",
   "execution_count": 6,
   "metadata": {},
   "outputs": [
    {
     "name": "stdout",
     "output_type": "stream",
     "text": [
      "8\n",
      "6\n",
      "4\n",
      "2\n",
      "0\n"
     ]
    }
   ],
   "source": [
    "x = 10\n",
    "while x:\n",
    "    x = x - 1 # Или, x -= 1\n",
    "    if x % 2 != 0: continue # Нечетное? – пропустить вывод\n",
    "    print(x)"
   ]
  },
  {
   "cell_type": "markdown",
   "metadata": {},
   "source": [
    "Использование Break\n",
    "----------"
   ]
  },
  {
   "cell_type": "code",
   "execution_count": 7,
   "metadata": {},
   "outputs": [
    {
     "name": "stdout",
     "output_type": "stream",
     "text": [
      "Enter name:yuiyu\n",
      "Enter age: 8\n",
      "Hello yuiyu => 64\n",
      "Enter name:stop\n"
     ]
    }
   ],
   "source": [
    "while True:\n",
    "    name = input('Enter name:')\n",
    "    if name == 'stop': break\n",
    "    age = input('Enter age: ')\n",
    "    print('Hello', name, '=>', int(age) ** 2)"
   ]
  },
  {
   "cell_type": "markdown",
   "metadata": {},
   "source": [
    "Использование Else\n",
    "--------\n",
    "Пример на проверку, простое ли число y"
   ]
  },
  {
   "cell_type": "code",
   "execution_count": 12,
   "metadata": {},
   "outputs": [
    {
     "name": "stdout",
     "output_type": "stream",
     "text": [
      "Enter number:23\n",
      "23 is prime\n"
     ]
    }
   ],
   "source": [
    "y = int(input('Enter number:'))\n",
    "x = y // 2 # Для значений y > 1\n",
    "while x > 1:\n",
    "    if y % x == 0: \n",
    "        print(y, 'has factor', x)\n",
    "        break \n",
    "    else: \n",
    "        x -= 1\n",
    "else: \n",
    "    print(y, 'is prime')"
   ]
  },
  {
   "cell_type": "markdown",
   "metadata": {},
   "source": [
    "Вместо того чтобы устанавливать флаг, который будет проверен по окончании\n",
    "цикла, достаточно вставить инструкцию break в месте, где будет найден делитель. При такой реализации управление будет передано блоку else, только\n",
    "если инструкция break не была выполнена, то есть когда с уверенностью можно\n",
    "сказать, что число является простым.\n",
    "\n",
    "Так как блок else в цикле является уникальной особенностью языка Python,\n",
    "он нередко становится источником недопонимания для тех, кто только начинает осваивать его. В общих чертах, блок else в циклах обеспечивает явный\n",
    "синтаксис представления распространенной ситуации – эта программная\n",
    "структура позволяет обработать «другой» способ выхода из цикла, без необходимости устанавливать и проверять флаги или условия.\n",
    "\n",
    " Еще пример:"
   ]
  },
  {
   "cell_type": "code",
   "execution_count": null,
   "metadata": {},
   "outputs": [],
   "source": [
    "a = ['foo', 'bar', 'baz', 'qux']\n",
    "s = 'corge'\n",
    "\n",
    "i = 0\n",
    "while i < len(a):\n",
    "    if a[i] == s:\n",
    "       # Processing for item found\n",
    "         break\n",
    "    i += 1\n",
    "else:\n",
    "# Processing for item not found\n",
    "    print(s, 'not found in list.')"
   ]
  },
  {
   "cell_type": "markdown",
   "metadata": {},
   "source": [
    "Приведенный выше код полезен для иллюстрации концепции, но на самом деле вы вряд ли будете искать значение в списке таким образом.\n",
    "\n",
    "Прежде всего, списки обычно обрабатываются с определенной итерацией, а не циклом while. Или, Python предоставляет встроенные способы поиска элемента в списке. Так, можно использовать оператор in:"
   ]
  },
  {
   "cell_type": "code",
   "execution_count": 24,
   "metadata": {},
   "outputs": [
    {
     "name": "stdout",
     "output_type": "stream",
     "text": [
      "corge not found in list.\n"
     ]
    }
   ],
   "source": [
    "if s in a:\n",
    "    print(s, 'found in list.')\n",
    "else:\n",
    "    print(s, 'not found in list.')"
   ]
  },
  {
   "cell_type": "markdown",
   "metadata": {},
   "source": [
    "Циклы **for**\n",
    "=====\n",
    "\n",
    "Цикл **for** является универсальным итератором последовательностей в языке\n",
    "Python: он может выполнять обход элементов в любых упорядоченных объектах последовательностей. Инструкция **for** способна работать со строками, списками, кортежами, с другими встроенными объектами, поддерживающими возможность выполнения итераций, и с новыми объектами, которые создаются с помощью классов.\n",
    "\n",
    "Полная форма цикла **for** имеет следующий вид:\n",
    "\n",
    "    for <target> in <object>: # Присваивает элементы объекта с переменной цикла\n",
    "        <statements>\n",
    "        if <test>: break      # Выход из цикла, минуя блок else\n",
    "        if <test>: continue   # Переход в начало цикла\n",
    "    else:\n",
    "        <statements>          # Если не была вызвана инструкция ‘break’\n",
    "        \n"
   ]
  },
  {
   "cell_type": "code",
   "execution_count": 1,
   "metadata": {},
   "outputs": [
    {
     "name": "stdout",
     "output_type": "stream",
     "text": [
      "c j g h j g k g "
     ]
    }
   ],
   "source": [
    "for x in 'cjghjgkg':\n",
    "     print(x, end=' ')"
   ]
  },
  {
   "cell_type": "markdown",
   "metadata": {},
   "source": [
    "        \n",
    "Типичные варианты использования\n",
    "--------\n",
    "\n",
    "**Функция range**\n",
    "\n",
    "Функция range имеет следующие формы:\n",
    "\n",
    "* **range(stop)**: возвращает все целые числа от 0 до **stop**\n",
    "\n",
    "* **range(start, stop)**: возвращает все целые числа в промежутке от **start** (включая) до **stop** (не включая). Выше в программе факториала использована именно эта форма.\n",
    "\n",
    "* **range(start, stop, step)**: возвращает целые числа в промежутке от **start** (включая) до **stop** (не включая), которые увеличиваются на значение **step**"
   ]
  },
  {
   "cell_type": "code",
   "execution_count": 21,
   "metadata": {},
   "outputs": [
    {
     "name": "stdout",
     "output_type": "stream",
     "text": [
      "2 5 8 "
     ]
    }
   ],
   "source": [
    "for i in  range(2, 10, 3):      \n",
    "    print(i,end=' ')     \n",
    "   "
   ]
  },
  {
   "cell_type": "markdown",
   "metadata": {},
   "source": []
  }
 ],
 "metadata": {
  "kernelspec": {
   "display_name": "Python 3",
   "language": "python",
   "name": "python3"
  },
  "language_info": {
   "codemirror_mode": {
    "name": "ipython",
    "version": 3
   },
   "file_extension": ".py",
   "mimetype": "text/x-python",
   "name": "python",
   "nbconvert_exporter": "python",
   "pygments_lexer": "ipython3",
   "version": "3.7.1"
  }
 },
 "nbformat": 4,
 "nbformat_minor": 2
}
