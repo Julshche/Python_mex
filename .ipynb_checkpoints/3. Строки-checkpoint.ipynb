{
 "cells": [
  {
   "cell_type": "markdown",
   "metadata": {},
   "source": [
    "# Строки\n",
    "\n",
    "В Python 3 мы имеем один строковый тип: str, который хранит данные в Unicode, и два байтовых типа: bytes и bytearray.\n",
    "В отличие от таких языков, как C#, в языке Python отсутствует специальный тип для представления единственного символа, поэтому в случае необходимости используются односимвольные строк\n",
    "\n",
    "Строки выделяются одинарными или двойными кавычками.\n"
   ]
  },
  {
   "cell_type": "code",
   "execution_count": null,
   "metadata": {},
   "outputs": [],
   "source": [
    "my_string = \"This is a cat\"\n",
    "my_string = 'This is a cat.'"
   ]
  },
  {
   "cell_type": "markdown",
   "metadata": {},
   "source": [
    " Неформатированные строки используются для хранения имен каталогов в Windows, а также для регулярных выражений. Неформатированные строки и экранированные последовательности:"
   ]
  },
  {
   "cell_type": "code",
   "execution_count": null,
   "metadata": {},
   "outputs": [],
   "source": [
    "print(r\"https://docs.python.org/3/library/string.html\")\n",
    "print('s\\np\\ta\\x00m')"
   ]
  },
  {
   "cell_type": "markdown",
   "metadata": {},
   "source": [
    "**Блочная  строка** - формат, который удобно использовать для определения\n",
    "многострочных блоков текста в программном коде. Литералы в этой форме начинаются с трех идущих подряд кавычек (или апострофов), за которыми может следовать произвольное число строк текста, который закрывается такими\n",
    "же тремя кавычками. Внутри такой строки могут присутствовать и кавычки,\n",
    "и апострофы, но экранировать их не требуется – строка не считается завершенной, пока интерпретатор не встретит три неэкранированные кавычки того же типа, которые начинают литерал.\n",
    "\n",
    "Строки в тройных кавычках удобно использовать, когда в программе требуется ввести многострочный текст, например чтобы определить многострочный текст сообщения об ошибке или код разметки на языке HTML или XML. Также такие строки используются для составления коментариев к коду."
   ]
  },
  {
   "cell_type": "code",
   "execution_count": null,
   "metadata": {},
   "outputs": [],
   "source": [
    "s=\"\"\"Five little monkeys jumping on the bed\n",
    "One fell off and bumped his head\n",
    "Mama called the doctor\n",
    "And the doctor said\n",
    "No more monkeys jumping on the bed\"\"\"\n",
    "print(s)"
   ]
  },
  {
   "cell_type": "markdown",
   "metadata": {},
   "source": [
    "## Базовые операции и методы строк\n",
    "\n",
    "1. Длина строки len(str)\n",
    "2. Конкатенация: новая строка 'x'+'y'. (Однако, согласно PEP8, если вам важна производительность, рекомендуется строки объединять методом сепаратор.join(строки). Это будет гарантировать, что объединение происходит в линейное время в различных реализациях).\n",
    "3. Повторение str*number\n"
   ]
  },
  {
   "cell_type": "code",
   "execution_count": null,
   "metadata": {},
   "outputs": [],
   "source": [
    "first_name = 'ada'\n",
    "last_name = 'lovelace'\n",
    "\n",
    "full_name = first_name + ' ' + last_name\n",
    "\n",
    "print(full_name)\n",
    "\n",
    "print(' '.join([first_name,last_name]))\n",
    "\n",
    "print('spam' * 3)"
   ]
  },
  {
   "cell_type": "markdown",
   "metadata": {},
   "source": [
    "***Разные регистры***"
   ]
  },
  {
   "cell_type": "code",
   "execution_count": null,
   "metadata": {},
   "outputs": [],
   "source": [
    "\n",
    "print(first_name)\n",
    "print(first_name.title())\n",
    "print(first_name.upper())\n",
    "print(first_name.lower())"
   ]
  },
  {
   "cell_type": "markdown",
   "metadata": {},
   "source": [
    "Мы уже увидели некоторые методы строк. Полный список можно узнать методом dir с входящим параметром - str:"
   ]
  },
  {
   "cell_type": "code",
   "execution_count": null,
   "metadata": {},
   "outputs": [],
   "source": [
    "dir(str)"
   ]
  },
  {
   "cell_type": "markdown",
   "metadata": {},
   "source": [
    "Вызов помощи по методу: help(method)"
   ]
  },
  {
   "cell_type": "code",
   "execution_count": null,
   "metadata": {},
   "outputs": [],
   "source": [
    "help(str.find)"
   ]
  },
  {
   "cell_type": "markdown",
   "metadata": {},
   "source": [
    "**find** - поиск подстроки в строке. Возвращает номер первого вхождения или -1"
   ]
  },
  {
   "cell_type": "code",
   "execution_count": null,
   "metadata": {},
   "outputs": [],
   "source": [
    "#import this\n",
    "test_string=\"\"\"Simple is better than complex.\n",
    "Complex is better than complicated.\"\"\"\n",
    "print(test_string.find('better'))\n",
    "print(test_string.find('\\n'))"
   ]
  },
  {
   "cell_type": "markdown",
   "metadata": {},
   "source": [
    "**rfind** - поиск подстроки в строке. Возвращает номер последнего вхождения или -1"
   ]
  },
  {
   "cell_type": "code",
   "execution_count": null,
   "metadata": {},
   "outputs": [],
   "source": [
    "print(test_string.rfind('better'))"
   ]
  },
  {
   "cell_type": "markdown",
   "metadata": {},
   "source": [
    "Допускается выполнять обход элементов строки в цикле, используя инструкцию **for**, и проверять вхождение подстроки в строку с помощью оператора выражения **in**, который, по сути, выполняет операцию поиска. \n",
    "В случае поиска подстрок оператор **in** напоминает метод **str.find()** с тем отличием, что он возвращает логический результат, а не позицию подстроки в строке:"
   ]
  },
  {
   "cell_type": "code",
   "execution_count": 30,
   "metadata": {},
   "outputs": [
    {
     "name": "stdout",
     "output_type": "stream",
     "text": [
      "S i m p l e   i s   b e t t e r   t h a n   c o m p l e x . \n",
      " C o m p l e x   i s   b e t t e r   t h a n   c o m p l i c a t e d . "
     ]
    },
    {
     "data": {
      "text/plain": [
       "True"
      ]
     },
     "execution_count": 30,
     "metadata": {},
     "output_type": "execute_result"
    }
   ],
   "source": [
    "for symb in test_string:\n",
    "    print(symb, end=' ')\n",
    "'Simple' in test_string"
   ]
  },
  {
   "cell_type": "markdown",
   "metadata": {},
   "source": [
    "**Удаление лишних пробелов или символов**\n"
   ]
  },
  {
   "cell_type": "code",
   "execution_count": null,
   "metadata": {},
   "outputs": [],
   "source": [
    "name = '  Name   '\n",
    "\n",
    "print('-' + name.lstrip() + '-')\n",
    "print('-' + name.rstrip() + '-')\n",
    "print('-' + name.strip() + '-')\n",
    "\n",
    "name = '..Name..'\n",
    "print(name.strip('.'))\n"
   ]
  },
  {
   "cell_type": "markdown",
   "metadata": {},
   "source": [
    "**replace** - замена по шаблону"
   ]
  },
  {
   "cell_type": "code",
   "execution_count": 26,
   "metadata": {},
   "outputs": [
    {
     "name": "stdout",
     "output_type": "stream",
     "text": [
      "..Cat..\n",
      "..Name..\n",
      "wow wow bla\n"
     ]
    }
   ],
   "source": [
    "print(name.replace('Name','Cat'))\n",
    "print(name)\n",
    "\n",
    "print(\"bla bla bla\".replace(\"bla\", \"wow\", 2))"
   ]
  },
  {
   "cell_type": "markdown",
   "metadata": {},
   "source": [
    "**split** - разбиение строки по разделителю"
   ]
  },
  {
   "cell_type": "code",
   "execution_count": 24,
   "metadata": {},
   "outputs": [
    {
     "data": {
      "text/plain": [
       "['Simple',\n",
       " 'is',\n",
       " 'better',\n",
       " 'than',\n",
       " 'complex.',\n",
       " 'Complex',\n",
       " 'is',\n",
       " 'better',\n",
       " 'than',\n",
       " 'complicated.']"
      ]
     },
     "execution_count": 24,
     "metadata": {},
     "output_type": "execute_result"
    }
   ],
   "source": [
    "test_string.split()"
   ]
  },
  {
   "cell_type": "code",
   "execution_count": 25,
   "metadata": {},
   "outputs": [
    {
     "data": {
      "text/plain": [
       "['Simple is better than ', '.\\nComplex is better than complicated.']"
      ]
     },
     "execution_count": 25,
     "metadata": {},
     "output_type": "execute_result"
    }
   ],
   "source": [
    "test_string.split('complex')"
   ]
  },
  {
   "cell_type": "markdown",
   "metadata": {},
   "source": [
    "**Доступ по индексам и извлечение подстроки**\n",
    "\n"
   ]
  }
 ],
 "metadata": {
  "kernelspec": {
   "display_name": "Python 3",
   "language": "python",
   "name": "python3"
  },
  "language_info": {
   "codemirror_mode": {
    "name": "ipython",
    "version": 3
   },
   "file_extension": ".py",
   "mimetype": "text/x-python",
   "name": "python",
   "nbconvert_exporter": "python",
   "pygments_lexer": "ipython3",
   "version": "3.7.1"
  }
 },
 "nbformat": 4,
 "nbformat_minor": 2
}
