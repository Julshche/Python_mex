{
 "cells": [
  {
   "cell_type": "markdown",
   "metadata": {},
   "source": [
    " https://docs.python.org/3/tutorial/classes.html#inheritance\n",
    " \n",
    " Класс — это пользовательский тип. Инструкция **class** создает объект класса и присваивает ему имя. \n",
    "\n",
    "Так же как и инструкция **def**, инструкция **class** является выполняемой инструкцией.\n",
    "\n",
    "Для создания класса используется ключевое слово **class**, за которым следует наименование класса. В **Python**, конвенция указывает на то, что наименование класса должно начинаться с заглавной буквы.\n",
    "\n",
    "Наиболее важные особенности классов в **Python**:\n",
    "\n",
    "- множественное наследование;\n",
    "- производный класс может переопределить любые методы базовых классов;\n",
    "- в любом месте можно вызвать метод с тем же именем базового класса;\n",
    "- все атрибуты класса в питоне по умолчанию являются public, т.е. доступны отовсюду; все методы — виртуальные, т.е. перегружают базовые."
   ]
  },
  {
   "cell_type": "code",
   "execution_count": 2,
   "metadata": {},
   "outputs": [
    {
     "data": {
      "text/plain": [
       "type"
      ]
     },
     "execution_count": 2,
     "metadata": {},
     "output_type": "execute_result"
    }
   ],
   "source": [
    "class Dog:\n",
    "    \"\"\" my class\"\"\"\n",
    "    pass\n",
    "\n",
    "type(Dog)"
   ]
  },
  {
   "cell_type": "markdown",
   "metadata": {},
   "source": [
    "- Операции присваивания внутри инструкции **class** создают атрибуты класса. \n",
    "- Вызов объекта класса как функции создает новый объект экземпляра. **Каждый объект экземпляра наследует атрибуты класса и         приобретает свое собственное пространство имен**. Объекты экземпляров первоначально пустые, но наследуют атрибуты классов, из которых были созданы.\n",
    "\n",
    "В языке **Python** класс не является чем-то статическим, поэтому добавить атрибуты можно и после определения:\n"
   ]
  },
  {
   "cell_type": "code",
   "execution_count": 3,
   "metadata": {},
   "outputs": [
    {
     "data": {
      "text/plain": [
       "'gav'"
      ]
     },
     "execution_count": 3,
     "metadata": {},
     "output_type": "execute_result"
    }
   ],
   "source": [
    "Dog.voice = \"gav\" # атрибут\n",
    "    \n",
    "sobaken = Dog() #  объект экземпляр\n",
    "sobaken.voice"
   ]
  },
  {
   "cell_type": "markdown",
   "metadata": {},
   "source": [
    "В действительности у экземпляра **sobaken** нет собственных атрибутов – он  получает атрибут **voice** из класса. Тем не менее если выполнить присваивание атрибуту экземпляра, будет создан (или изменен) атрибут этого объекта,\n",
    "а не другого – атрибуты обнаруживаются в результате поиска по дереву наследования, но операция присваивания значения атрибуту воздействует только на тот объект, к которому эта операция применяется. Ниже экземпляр **babaken** получает\n",
    "свой собственный атрибут **voice**, а экземпляр **sobaken** по-прежнему наследует атрибут\n",
    "**voice**, присоединенный к классу выше его"
   ]
  },
  {
   "cell_type": "code",
   "execution_count": 5,
   "metadata": {},
   "outputs": [
    {
     "name": "stdout",
     "output_type": "stream",
     "text": [
      "{'__module__': '__main__', '__doc__': ' my class', '__dict__': <attribute '__dict__' of 'Dog' objects>, '__weakref__': <attribute '__weakref__' of 'Dog' objects>, 'voice': 'gav'}\n",
      "{}\n",
      "{'voice': 'bou vou'}\n",
      "bou vou\n"
     ]
    }
   ],
   "source": [
    "babaken = Dog()\n",
    "babaken.voice = \"bou vou\"\n",
    "print(Dog.__dict__)\n",
    "print(sobaken.__dict__)\n",
    "print(babaken.__dict__)\n",
    "print(babaken.voice)"
   ]
  },
  {
   "cell_type": "markdown",
   "metadata": {},
   "source": [
    "Объект класса и экземпляр класса — это два разных объекта. Первый генерируется на этапе объявления класса, второй — при вызове имени класса. Объект класса может быть один, экземпляров класса может быть сколько угодно. \n",
    "\n",
    "Объекты классов поддерживают два вида операций:\n",
    "\n",
    "- доступ к атрибутам;\n",
    "- создание экземпляра класса."
   ]
  },
  {
   "cell_type": "markdown",
   "metadata": {},
   "source": [
    "**Атрибуты класса**\n",
    "=====\n",
    "\n",
    "Атрибуты класса бывают двух видов:\n",
    "\n",
    "- атрибуты данных;\n",
    "- атрибуты-методы.\n",
    "\n",
    "Атрибуты данных обычно записываются сверху. Память для атрибутов выделяется в момент их первого присваивания — либо снаружи, либо внутри метода. \n",
    "\n",
    "Есть также стандартные атрибуты"
   ]
  },
  {
   "cell_type": "code",
   "execution_count": 30,
   "metadata": {},
   "outputs": [
    {
     "name": "stdout",
     "output_type": "stream",
     "text": [
      " my class\n"
     ]
    }
   ],
   "source": [
    "print(Dog.__doc__)"
   ]
  },
  {
   "cell_type": "markdown",
   "metadata": {},
   "source": [
    "Инкапсуляция в **Python** работает лишь на уровне соглашения между программистами о\n",
    "том, какие атрибуты являются общедоступными, а какие — внутренними.\n",
    "\n",
    "**Одиночное подчеркивание** в начале имени атрибута говорит о том, что переменная или\n",
    "метод не предназначен для использования вне методов класса, однако атрибут доступен\n",
    "по этому имени.\n",
    "\n",
    "**Двойное подчеркивание** в начале имени атрибута даёт большую защиту: атрибут становится недоступным по этому имени."
   ]
  },
  {
   "cell_type": "code",
   "execution_count": 7,
   "metadata": {},
   "outputs": [
    {
     "ename": "AttributeError",
     "evalue": "'Cat' object has no attribute '__voice'",
     "output_type": "error",
     "traceback": [
      "\u001b[1;31m---------------------------------------------------------------------------\u001b[0m",
      "\u001b[1;31mAttributeError\u001b[0m                            Traceback (most recent call last)",
      "\u001b[1;32m<ipython-input-7-cb66f61a8f35>\u001b[0m in \u001b[0;36m<module>\u001b[1;34m\u001b[0m\n\u001b[0;32m      3\u001b[0m \u001b[1;33m\u001b[0m\u001b[0m\n\u001b[0;32m      4\u001b[0m \u001b[0mnew_cat\u001b[0m \u001b[1;33m=\u001b[0m \u001b[0mCat\u001b[0m\u001b[1;33m(\u001b[0m\u001b[1;33m)\u001b[0m\u001b[1;33m\u001b[0m\u001b[1;33m\u001b[0m\u001b[0m\n\u001b[1;32m----> 5\u001b[1;33m \u001b[0mprint\u001b[0m\u001b[1;33m(\u001b[0m\u001b[0mnew_cat\u001b[0m\u001b[1;33m.\u001b[0m\u001b[0m__voice\u001b[0m\u001b[1;33m)\u001b[0m\u001b[1;33m\u001b[0m\u001b[1;33m\u001b[0m\u001b[0m\n\u001b[0m",
      "\u001b[1;31mAttributeError\u001b[0m: 'Cat' object has no attribute '__voice'"
     ]
    }
   ],
   "source": [
    "class Cat:\n",
    "    __voice = \"Mjau\"\n",
    "    \n",
    "new_cat = Cat()\n",
    "print(new_cat.__voice)\n"
   ]
  },
  {
   "cell_type": "code",
   "execution_count": 8,
   "metadata": {},
   "outputs": [
    {
     "data": {
      "text/plain": [
       "'gaf'"
      ]
     },
     "execution_count": 8,
     "metadata": {},
     "output_type": "execute_result"
    }
   ],
   "source": [
    "new_cat.__voice = \"gaf\"\n",
    "new_cat.__voice"
   ]
  },
  {
   "cell_type": "code",
   "execution_count": 26,
   "metadata": {},
   "outputs": [
    {
     "data": {
      "text/plain": [
       "mappingproxy({'__module__': '__main__',\n",
       "              '_Cat__voice': 'Mjau',\n",
       "              '__dict__': <attribute '__dict__' of 'Cat' objects>,\n",
       "              '__weakref__': <attribute '__weakref__' of 'Cat' objects>,\n",
       "              '__doc__': None})"
      ]
     },
     "execution_count": 26,
     "metadata": {},
     "output_type": "execute_result"
    }
   ],
   "source": [
    "Cat.__dict__"
   ]
  },
  {
   "cell_type": "markdown",
   "metadata": {},
   "source": [
    "Есть существенное отличие между такими атрибутами (\\_\\_name) и личными (private) членами класса в таких языках как C++ или Java: атрибут остается доступным, но под именем вида _ИмяКласса__ИмяАтрибута. Искажение имен происходит только внутри инструкций class и только для\n",
    "имен, которые начинаются двумя символами подчеркивания"
   ]
  },
  {
   "cell_type": "code",
   "execution_count": 9,
   "metadata": {},
   "outputs": [
    {
     "data": {
      "text/plain": [
       "'Mjau'"
      ]
     },
     "execution_count": 9,
     "metadata": {},
     "output_type": "execute_result"
    }
   ],
   "source": [
    "new_cat._Cat__voice"
   ]
  },
  {
   "cell_type": "markdown",
   "metadata": {},
   "source": [
    "Если вы знаете имя вмещающего класса, вы сможете обратиться к их атрибутам из любой точки программы, где имеется ссылка на экземпляр, используя для этого расширенное имя. С другой стороны, эта особенность делает менее\n",
    "вероятными случайные конфликты с существующими именами в классе."
   ]
  },
  {
   "cell_type": "markdown",
   "metadata": {},
   "source": [
    "Рассмотрим еще пример про атрибуты. \n",
    "\n",
    "Если мы объявим в классе атрибут, который будет ссылаться на значение изменяемого типа данных. Что произойдет, если мы в одном из экземпляров класса изменим значение:"
   ]
  },
  {
   "cell_type": "code",
   "execution_count": 22,
   "metadata": {},
   "outputs": [
    {
     "data": {
      "text/plain": [
       "mappingproxy({'__module__': '__main__',\n",
       "              'it_can': ['sit',\n",
       "               'lie down',\n",
       "               'bring the ball',\n",
       "               'Only eat your shoes and love you'],\n",
       "              '__dict__': <attribute '__dict__' of 'Dog' objects>,\n",
       "              '__weakref__': <attribute '__weakref__' of 'Dog' objects>,\n",
       "              '__doc__': None})"
      ]
     },
     "execution_count": 22,
     "metadata": {},
     "output_type": "execute_result"
    }
   ],
   "source": [
    "class Dog:\n",
    "    it_can = ['sit', 'lie down', 'bring the ball' ]\n",
    "\n",
    "Poly = Dog()\n",
    "Koly = Dog()\n",
    "Koly.it_can.append(\"Only eat your shoes and love you\")\n",
    "\n",
    "Dog.__dict__"
   ]
  },
  {
   "cell_type": "code",
   "execution_count": 23,
   "metadata": {},
   "outputs": [
    {
     "data": {
      "text/plain": [
       "[['may'], 'lie down', 'bring the ball', 'Only eat your shoes and love you']"
      ]
     },
     "execution_count": 23,
     "metadata": {},
     "output_type": "execute_result"
    }
   ],
   "source": [
    "Poly.it_can[0] = [\"may\"]\n",
    "Koly.it_can"
   ]
  },
  {
   "cell_type": "markdown",
   "metadata": {},
   "source": [
    "Поэтому важно продумать архитектуру вашего класса) и что вы хотите позволить пользователю менять, а что - нет\n"
   ]
  },
  {
   "cell_type": "markdown",
   "metadata": {},
   "source": [
    "**Self**\n",
    "_________\n",
    " Обычно первый аргумент в имени метода — **self**. Как говорит автор языка Гвидо Ван Россум, это не более чем соглашение: имя **self** не имеет абсолютно никакого специального значения.\n",
    "\n",
    "**self** полезен для того, чтобы обращаться к другим атрибутам класса.\n",
    "\n",
    "Поскольку классы способны генерировать множество экземпляров, методы\n",
    "должны использовать аргумент **self**, чтобы получить доступ к обрабатываемому экземпляру.\n"
   ]
  },
  {
   "cell_type": "code",
   "execution_count": 20,
   "metadata": {},
   "outputs": [
    {
     "name": "stdout",
     "output_type": "stream",
     "text": [
      "King Arthur\n",
      "3.14159\n"
     ]
    }
   ],
   "source": [
    "class FirstClass: \n",
    "    def setdata(self, value): \n",
    "        self.data = value     # self – это экземпляр\n",
    "    def display(self):\n",
    "        print(self.data)      # self.data: данные экземпляров\n",
    "\n",
    "x = FirstClass() \n",
    "y = FirstClass()\n",
    "x.setda ta('King Arthur') \n",
    "y.setdata(3.14159)\n",
    "x.display()\n",
    "y.display()"
   ]
  },
  {
   "cell_type": "code",
   "execution_count": 21,
   "metadata": {},
   "outputs": [
    {
     "name": "stdout",
     "output_type": "stream",
     "text": [
      "King Arthur\n"
     ]
    }
   ],
   "source": [
    "print(x.data)"
   ]
  },
  {
   "cell_type": "markdown",
   "metadata": {},
   "source": [
    "**Пример**\n",
    "\n",
    "Какие числа будут выведены в результате выполнения данного кода?"
   ]
  },
  {
   "cell_type": "code",
   "execution_count": 11,
   "metadata": {},
   "outputs": [
    {
     "name": "stdout",
     "output_type": "stream",
     "text": [
      "2\n",
      "3\n",
      "3\n"
     ]
    },
    {
     "data": {
      "text/plain": [
       "{'val': 2}"
      ]
     },
     "execution_count": 11,
     "metadata": {},
     "output_type": "execute_result"
    }
   ],
   "source": [
    "class A:\n",
    "    val = 1\n",
    "\n",
    "    def foo(self):\n",
    "        A.val += 2\n",
    "\n",
    "    def bar(self):\n",
    "        self.val += 1\n",
    "\n",
    "\n",
    "a = A()\n",
    "b = A()\n",
    "\n",
    "a.bar()\n",
    "a.foo()\n",
    "\n",
    "c = A()\n",
    "\n",
    "print(a.val)\n",
    "print(b.val)\n",
    "print(c.val)\n",
    "a.__dict__"
   ]
  },
  {
   "cell_type": "markdown",
   "metadata": {},
   "source": [
    "<details>\n",
    "    Запись a.bar() запускает в работу функцию bar, которая увеличивает значение атрибута val экземпляра a (a.val) на единицу, но изначальное значение a.val не определено конструктором, поэтому в качестве начального значения a.val программа берет значение атрибута val всего класса A (A.val), которое изначально равно единице.\n",
    "\n",
    "Запись a.foo() запускает в работу функцию foo, которая увеличивает значение атрибута A.val на два. Функция foo при этом не изменяет значение a.val !!\n",
    "\n",
    "Поскольку значения b.val и c.val не заданы, то программа при выводе обращается к значению A.val, которое, как показано выше, к моменту исполнения данных строк уже не равняется единице.\n",
    "\n",
    "</details>"
   ]
  },
  {
   "cell_type": "markdown",
   "metadata": {},
   "source": [
    "Переопределение операторов\n",
    "--------\n",
    "\n",
    "Методы перегрузки операторов никогда не являются обязательными, и обычно для\n",
    "них не предусматривается реализация по умолчанию – если метод не реализован в классе и не унаследован, это всего лишь означает, что класс не поддерживает соответствующую операцию. Однако если эти методы используются, то\n",
    "они позволяют классам имитировать интерфейсы встроенных объектов и обеспечивают их единообразие.\n",
    "\n",
    "Почти все, что можно делать с объектами встроенных типов, такими как целые\n",
    "числа и списки, можно реализовать и в классах – с помощью специальных методов перегрузки операторов. Этих методов много и вы можете найти их в документации или что-то [тут](https://pythonworld.ru/osnovy/peregruzka-operatorov.html) .\n",
    "\n",
    "Все методы перегрузки имеют имена, начинающиеся и заканчивающиеся двумя символами подчеркивания, что отличает их от других имен, которые обычно определяют в своих классах. \n",
    "\n",
    "Мы рассмотрим перегрузку пока только двух для понимания сути. \n",
    "\n",
    " - Метод **\\_\\_init\\_\\_** вызывается, когда создается новый объект экземпляра класса \n",
    " - Метод **\\_\\_str\\_\\_** вызывается при выводе объекта (точнее, когда он преобразуется в строку для вывода вызовом встроенной функции str или ее эквивалентом внутри интерпретатора).\n",
    "\n",
    "\n",
    "\n",
    " Вы видели, что объявлять атрибуты просто в классе может создать путаницу и не дает гарантии, что у экземпляров будет общий набор атрибутов и меняя у одного значение, мы случайно не изменим у всех.. Вообщем, веду я к конструктору. Если ваша цель, чтоб каждый экземпляр имел одинаковый набор атрибутов, то стоит определить атрибуты в нем. Мы уже рассмотрели атрибут **self**, вот используя его мы обращаемся к атрибутам экземпляра класса\n",
    "\n",
    "И сразу перейдем к примеру:\n"
   ]
  },
  {
   "cell_type": "code",
   "execution_count": 19,
   "metadata": {},
   "outputs": [
    {
     "name": "stdout",
     "output_type": "stream",
     "text": [
      "Name : Den, job = dev, pay = 400\n",
      "Name : Ben, job = None, pay = 0\n"
     ]
    }
   ],
   "source": [
    "class Person:\n",
    "    def __init__(self, name, job=None, pay=0):\n",
    "        self.name = name\n",
    "        self.job = job\n",
    "        self.pay = pay\n",
    "    def __str__(self):\n",
    "        return \"Name : {0}, job = {1}, pay = {2}\".format(self.name,self.job,self.pay)\n",
    "        \n",
    "Den = Person(\"Den\", pay = 400, job = 'dev')\n",
    "Ben = Person(\"Ben\")\n",
    "print(Den, Ben, sep ='\\n')"
   ]
  },
  {
   "cell_type": "markdown",
   "metadata": {},
   "source": [
    "Таким образом, у экземпляров класса **Person** при создании будут инициализироваться три атрибута, причем два являются не обязательными. \n",
    "\n",
    "Перегрузка метода **\\_\\_str\\_\\_** позволяет выводить информацию об объекте без создания специального метода для вывода. Мы можем как обычно использовать **print**"
   ]
  },
  {
   "cell_type": "markdown",
   "metadata": {},
   "source": [
    "Наследование\n",
    "-----------\n",
    "\n",
    "В языке **Python** экземпляры наследуют классы, а классы наследуют суперклассы. \n",
    "\n",
    "Чтобы унаследовать атрибуты другого класса, достаточно указать\n",
    "этот класс в круглых скобках в заголовке инструкции **class**. Наследующий\n",
    "класс называется подклассом, а наследуемый класс называется его суперклассом.\n",
    "\n",
    "     class Derived(Base):\n",
    "\n",
    "Если базовый класс определен не в текущем модуле:\n",
    "\n",
    "     class Derived(module_name.Base):\n",
    "     \n",
    "Разрешение имен атрибутов работает сверху вниз: если атрибут не найден в текущем классе, поиск продолжается в базовом классе, и так далее по рекурсии. Производные классы могут переопределить методы базовых классов — все методы являются в этом смысле виртуальными. Вызвать метод базового класса в классе наследнике можно с префиксом:\n",
    "     \n",
    "     Base.method()\n"
   ]
  },
  {
   "cell_type": "code",
   "execution_count": 18,
   "metadata": {},
   "outputs": [
    {
     "name": "stdout",
     "output_type": "stream",
     "text": [
      "Current value = 42\n"
     ]
    }
   ],
   "source": [
    "class FirstClass: \n",
    "    def setdata(self, value): \n",
    "        self.data = value     # self – это экземпляр\n",
    "    def display(self):\n",
    "        print(self.data)      # self.data: данные экземпляров\n",
    "\n",
    "class SecondClass(FirstClass): \n",
    "    def display(self):         #класс SecondClass замещает атрибут display своего суперкласса.\n",
    "        print(f'Current value = {self.data}' )\n",
    "        \n",
    "z = SecondClass()\n",
    "z.setdata(42)\n",
    "z.display()"
   ]
  },
  {
   "cell_type": "markdown",
   "metadata": {},
   "source": [
    "При обращении к **setdata** все так же вызывается версия метода из **FirstClass**, но при\n",
    "обращении к атрибуту **display** вызывается версия метода из **SecondClass**, которая выводит измененный текст сообщения. Таким образом, произошло переопределение метода **display**. Это важно помнить, когда наследуете класс и у вас происходит совпадение имен атрибутов или методов.\n",
    "\n"
   ]
  },
  {
   "cell_type": "markdown",
   "metadata": {},
   "source": []
  },
  {
   "cell_type": "markdown",
   "metadata": {},
   "source": [
    "**Python** также поддерживает форму множественного наследования. Множественное наследование имеет место, когда класс наследует более\n",
    "одного суперкласса, – это удобно для объединения пакетов программного\n",
    "кода, оформленных в виде классов. Порядок поиска атрибутов определяется порядком следования суперклассов в заголовке инструкции class\n",
    "\n",
    "      class DerivedClassName(Base1, Base2, Base3):\n",
    "        <statement-1>\n",
    "            ...\n",
    "        <statement-N>\n",
    "\n",
    "Поиск атрибутов, унаследованных от родительского класса, происходит сначала в глубину, затем слева-направо (Ромбовидное наследование). Поиск не производится дважды в том же классе, где есть совпадение в иерархии. Таким образом, если атрибут не найден в **DerivedClassName**, он ищется в **Base1**, затем (рекурсивно) в базовых классах **Base1**, и если не был найден там, поиск будет продолжен в **Base2** и так далее.\n",
    "\n",
    "Пример: "
   ]
  },
  {
   "cell_type": "code",
   "execution_count": null,
   "metadata": {},
   "outputs": [],
   "source": [
    "class Vertebrate:\n",
    "    def lay_eggs(self):\n",
    "        return None\n",
    "\n",
    "class Bird(Vertebrate):\n",
    "    def lay_eggs(self):\n",
    "        return True\n",
    "\n",
    "class Mammal(Vertebrate):\n",
    "    pass\n",
    "\n",
    "class PlatypusMammalFirst(Mammal, Bird):\n",
    "    pass\n",
    "\n",
    "class PlatypusBirdFirst(Bird, Mammal):\n",
    "    pass\n",
    "\n",
    "print(PlatypusMammalFirst().lay_eggs())\n",
    "print(PlatypusBirdFirst().lay_eggs())"
   ]
  },
  {
   "cell_type": "markdown",
   "metadata": {},
   "source": [
    "Для **PlatypusMammalFirst** первый родитель **Mammal** не переопределяет метод **lay_eggs**, а второй родитель (**Bird**) - переопределяет. Что вернет **lay_eggs()**?\n",
    "\n",
    "А для **PlatypusBirdFirst**?\n",
    "\n",
    "Мы в обоих случаях получим **True**, и никогда не “провалимся” до возвращающего **None** класса **Vertebrate**.\n",
    "\n",
    "Подробнее: https://masterandrey.com/posts/ru/python_super.html"
   ]
  },
  {
   "cell_type": "markdown",
   "metadata": {},
   "source": [
    "Уже познакомившись немного с наследованием, хорошо немного вернутся к псевдочастным атрибутам. Рассмотрим пример. Пусть у нас есть два класса от двух разных программистов, которые решили назвать переменную **X**"
   ]
  },
  {
   "cell_type": "markdown",
   "metadata": {},
   "source": [
    "    class C1:\n",
    "    def meth1(self): self.X = 88   \n",
    "        def meth2(self): print(self.X)\n",
    "        \n",
    "    class C2:\n",
    "        def metha(self): self.X = 99   \n",
    "        def methb(self): print(self.X)\n",
    "\n",
    "Классы работают по отдельности хорошо, но вот если необходимо будет их обоих насследовать, возникнет неопределеность. \n",
    "\n",
    "        class C3(C1, C2): ...\n",
    "        I = C3()  \n",
    "        \n",
    "Какое значение примет Х будет зависеть от того, кто из классов последним присвоил значение. Вот в такой ситуации и помогут псевдочастные атрибуты."
   ]
  },
  {
   "cell_type": "code",
   "execution_count": 12,
   "metadata": {},
   "outputs": [
    {
     "name": "stdout",
     "output_type": "stream",
     "text": [
      "{'_C1__X': 88, '_C2__X': 99}\n",
      "88\n",
      "99\n"
     ]
    }
   ],
   "source": [
    "class C1:\n",
    "    def meth1(self): self.__X = 88   # Теперь X -Превратится в _C1__X\n",
    "    def meth2(self): print(self.__X)  \n",
    "        \n",
    "class C2:\n",
    "    def metha(self): self.__X = 99     \n",
    "    def methb(self): print(self.__X)   # Превратится в _C2__X\n",
    "        \n",
    "class C3(C1, C2): pass\n",
    "\n",
    "I = C3()                               # В I два имени X\n",
    "I.meth1(); I.metha()\n",
    "print(I.__dict__)\n",
    "I.meth2(); I.methb()"
   ]
  },
  {
   "cell_type": "markdown",
   "metadata": {},
   "source": [
    "Псевдочастные атрибуты также удобно использовать в крупных проектах, так\n",
    "как они позволяют избежать необходимости выдумывать новые имена методов, которые по ошибке могут переопределить методы, уже существующие\n",
    "выше в дереве классов, и помогают снизить вероятность, что внутренние методы окажутся переопределенными где-то ниже в дереве классов."
   ]
  },
  {
   "cell_type": "markdown",
   "metadata": {},
   "source": [
    "Выше уже упоминалось, что поиск атрибутов и методов происходит снизу вверх в дереве классов, поэтому когда интерпретатор встречает искомое имя, он не будет искать дальше, например искать в суперклассе, если уже найден атрибут в наследнике. Поэтому давайте рассмотрим пример, что происходит, когда мы в наследнике класса определяем конструктор:"
   ]
  },
  {
   "cell_type": "code",
   "execution_count": 17,
   "metadata": {},
   "outputs": [
    {
     "name": "stdout",
     "output_type": "stream",
     "text": [
      "Aaaammm!\n"
     ]
    },
    {
     "ename": "AttributeError",
     "evalue": "'Barsik' object has no attribute 'hungry'",
     "output_type": "error",
     "traceback": [
      "\u001b[1;31m---------------------------------------------------------------------------\u001b[0m",
      "\u001b[1;31mAttributeError\u001b[0m                            Traceback (most recent call last)",
      "\u001b[1;32m<ipython-input-17-ac98c466787a>\u001b[0m in \u001b[0;36m<module>\u001b[1;34m\u001b[0m\n\u001b[0;32m     15\u001b[0m \u001b[1;33m\u001b[0m\u001b[0m\n\u001b[0;32m     16\u001b[0m \u001b[0mbrs\u001b[0m \u001b[1;33m=\u001b[0m \u001b[0mBarsik\u001b[0m\u001b[1;33m(\u001b[0m\u001b[1;33m)\u001b[0m\u001b[1;33m\u001b[0m\u001b[1;33m\u001b[0m\u001b[0m\n\u001b[1;32m---> 17\u001b[1;33m \u001b[0mbrs\u001b[0m\u001b[1;33m.\u001b[0m\u001b[0meat\u001b[0m\u001b[1;33m(\u001b[0m\u001b[1;33m)\u001b[0m\u001b[1;33m\u001b[0m\u001b[1;33m\u001b[0m\u001b[0m\n\u001b[0m",
      "\u001b[1;32m<ipython-input-17-ac98c466787a>\u001b[0m in \u001b[0;36meat\u001b[1;34m(self)\u001b[0m\n\u001b[0;32m      3\u001b[0m         \u001b[0mself\u001b[0m\u001b[1;33m.\u001b[0m\u001b[0mhungry\u001b[0m \u001b[1;33m=\u001b[0m \u001b[1;32mTrue\u001b[0m\u001b[1;33m\u001b[0m\u001b[1;33m\u001b[0m\u001b[0m\n\u001b[0;32m      4\u001b[0m     \u001b[1;32mdef\u001b[0m \u001b[0meat\u001b[0m\u001b[1;33m(\u001b[0m\u001b[0mself\u001b[0m\u001b[1;33m)\u001b[0m\u001b[1;33m:\u001b[0m\u001b[1;33m\u001b[0m\u001b[1;33m\u001b[0m\u001b[0m\n\u001b[1;32m----> 5\u001b[1;33m         \u001b[1;32mif\u001b[0m \u001b[0mself\u001b[0m\u001b[1;33m.\u001b[0m\u001b[0mhungry\u001b[0m\u001b[1;33m:\u001b[0m\u001b[1;33m\u001b[0m\u001b[1;33m\u001b[0m\u001b[0m\n\u001b[0m\u001b[0;32m      6\u001b[0m             \u001b[0mprint\u001b[0m\u001b[1;33m(\u001b[0m\u001b[1;34m'I am hangry...'\u001b[0m\u001b[1;33m)\u001b[0m\u001b[1;33m\u001b[0m\u001b[1;33m\u001b[0m\u001b[0m\n\u001b[0;32m      7\u001b[0m             \u001b[0mself\u001b[0m\u001b[1;33m.\u001b[0m\u001b[0mhungry\u001b[0m \u001b[1;33m=\u001b[0m \u001b[1;32mFalse\u001b[0m\u001b[1;33m\u001b[0m\u001b[1;33m\u001b[0m\u001b[0m\n",
      "\u001b[1;31mAttributeError\u001b[0m: 'Barsik' object has no attribute 'hungry'"
     ]
    }
   ],
   "source": [
    "class Cat:\n",
    "    def __init__(self):\n",
    "        self.hungry = True\n",
    "    def eat(self):\n",
    "        if self.hungry:\n",
    "            print('I am hangry...')\n",
    "            self.hungry = False\n",
    "        else:\n",
    "            print('No, thanks!') \n",
    "    \n",
    "class Barsik(Cat):\n",
    "    def __init__(self):\n",
    "        self.sound = 'Aaaammm!'\n",
    "        print(self.sound) \n",
    "        \n",
    "brs = Barsik()\n",
    "brs.eat()"
   ]
  },
  {
   "cell_type": "markdown",
   "metadata": {},
   "source": [
    "Получилась интересная ситуация. Вроде мы наследуем класс, но доступ к его полям не получили. Дело в том, что механизм наследования, реализованный в интерпретаторе, позволяет отыскать только один\n",
    "метод **\\_\\_init\\_\\_** на этапе конструирования – самый  нижний в дереве классов.\n",
    "Если во время конструирования объекта требуется вызвать метод **\\_\\_init\\_\\_**, расположенный выше (что обычно и делается), его необходимо вызывать вручную,\n",
    "обращением через имя суперкласса или используя super(). \n",
    "\n",
    "Положительная сторона такого подхода\n",
    "заключается в том, что вы можете явно передать конструктору суперкласса\n",
    "только необходимые аргументы или вообще не вызывать его: возможность отказа от вызова конструктора суперкласса позволяет полностью заместить логику его работы, а не дополнять ее.\n",
    "\n",
    "Поэтому исправим наш пример:"
   ]
  },
  {
   "cell_type": "code",
   "execution_count": 16,
   "metadata": {},
   "outputs": [
    {
     "name": "stdout",
     "output_type": "stream",
     "text": [
      "Aaaammm!\n",
      "I am hangry...\n"
     ]
    }
   ],
   "source": [
    "class Cat:\n",
    "    def __init__(self):\n",
    "        self.hungry = True\n",
    "    def eat(self):\n",
    "        if self.hungry:\n",
    "            print('I am hangry...')\n",
    "            self.hungry = False\n",
    "        else:\n",
    "            print('No, thanks!') \n",
    "    \n",
    "class Barsik(Cat):\n",
    "    def __init__(self):\n",
    "        Cat.__init__(self)\n",
    "        self.sound = 'Aaaammm!'\n",
    "        print(self.sound) \n",
    "        \n",
    "brs = Barsik()\n",
    "brs.eat()"
   ]
  },
  {
   "cell_type": "code",
   "execution_count": 7,
   "metadata": {},
   "outputs": [
    {
     "data": {
      "text/plain": [
       "54"
      ]
     },
     "execution_count": 7,
     "metadata": {},
     "output_type": "execute_result"
    }
   ],
   "source": [
    "class Rectangle:\n",
    "    def __init__(self, length, width):\n",
    "        self.length = length\n",
    "        self.width = width\n",
    "\n",
    "    def area(self):\n",
    "        return self.length * self.width\n",
    "\n",
    "    def perimeter(self):\n",
    "        return 2 * self.length + 2 * self.width\n",
    "\n",
    "# Here we declare that the Square class inherits from the Rectangle class\n",
    "\n",
    "class Square(Rectangle):\n",
    "    def __init__(self, length):\n",
    "        super().__init__(length, length)\n",
    "\n",
    "class Cube(Square):\n",
    "    def surface_area(self):\n",
    "        face_area = Square.area(self) # можно заменить на super().area() или super(Cube, self).area()\n",
    "        return face_area * 6\n",
    "\n",
    "    def volume(self):\n",
    "        face_area = super().area()\n",
    "        return face_area * self.length\n",
    "\n",
    "cube = Cube(3)\n",
    "cube.surface_area()"
   ]
  },
  {
   "cell_type": "code",
   "execution_count": 4,
   "metadata": {},
   "outputs": [
    {
     "data": {
      "text/plain": [
       "27"
      ]
     },
     "execution_count": 4,
     "metadata": {},
     "output_type": "execute_result"
    }
   ],
   "source": [
    "cube.volume()"
   ]
  },
  {
   "cell_type": "markdown",
   "metadata": {},
   "source": [
    "**super()**\n",
    "https://realpython.com/python-super/\n",
    "\n",
    "В примере выше мы обращаемся к суперклассу **Rectangle**  по имени. Есть другой вариант: исспользовать функцию **super()**\n",
    "\n",
    "**super()** позволяет вызывать методы суперкласса в субклассах. В  примере выше можно вызывать **super()** без каких-либо параметров, так как там очевидно метод какого класса будет унаследован, однако **super()** также может принимать два параметра: первый - это подкласс, а второй параметр - это объект, который является экземпляром этого подкласса.\n",
    "\n",
    "Если в примере выше в строке **20** испровить на **face_area = super().area()** эта запись будет равносильна записи:\n",
    "\n",
    "    face_area = super(Cube, self).area()\n",
    "    \n",
    "Если бы в классе **Square** был реализован метод **area()** и мы бы хотели обойти его (чтоб он не выполнялся, а вызывался именно метод класса **Rectangle** для **Cube**, тогда необходимо было бы записать  строку **20** так:\n",
    "\n",
    "    face_area = super(Square, self).area()\n",
    "    \n",
    "\n",
    "Чтоб узнать порядок поиска унаследованно метод в классах вы можете воспользоваться **MRO** - Порядок разрешения методов. \n",
    "Он сообщает **Python**, как искать унаследованные методы. Это удобно, когда вы используете **super()**, потому что **MRO** точно указывает, где **Python** будет искать метод, который вы вызываете с **super ()**, и в каком порядке.\n",
    "\n",
    "Каждый класс содержит атрибут **\\_\\_mro\\_\\_** :"
   ]
  },
  {
   "cell_type": "code",
   "execution_count": 8,
   "metadata": {},
   "outputs": [
    {
     "data": {
      "text/plain": [
       "(__main__.Cube, __main__.Square, __main__.Rectangle, object)"
      ]
     },
     "execution_count": 8,
     "metadata": {},
     "output_type": "execute_result"
    }
   ],
   "source": [
    "Cube.__mro__"
   ]
  },
  {
   "cell_type": "markdown",
   "metadata": {},
   "source": [
    "Еще немного...\n",
    "\n",
    "Расширение методов\n",
    "-----\n",
    "\n",
    "Подклассы могут полностью замещать унаследованные атрибуты, предоставлять атрибуты, которые ожидается отыскать\n",
    "в суперклассах, и расширять методы суперкласса за счет их вызова из методов\n",
    "подкласса. \n",
    "\n",
    "Ранее, в примере с **FirstClass** и **SecondClass**, было реализовано переопределение. Это может быть плохим стилем в том случае, если при переопределение вы копируете код суперкласса в метод наследника. В этом случае лучше расширить метод.\n",
    "\n",
    "Можем немного изменить тот пример:"
   ]
  },
  {
   "cell_type": "code",
   "execution_count": 13,
   "metadata": {},
   "outputs": [
    {
     "name": "stdout",
     "output_type": "stream",
     "text": [
      "Current value = 2\n"
     ]
    }
   ],
   "source": [
    "class FirstClass: \n",
    "    def __init__(self, value): \n",
    "        self.data = value     \n",
    "    def display(self, text = \"\"):\n",
    "        print(text + self.data)      \n",
    "\n",
    "class SecondClass(FirstClass):\n",
    "    def display(self): \n",
    "        FirstClass.display(self,'Current value = ')\n",
    "\n",
    "\n",
    "z = SecondClass('2')\n",
    "z.display()\n"
   ]
  },
  {
   "cell_type": "code",
   "execution_count": 14,
   "metadata": {},
   "outputs": [
    {
     "name": "stdout",
     "output_type": "stream",
     "text": [
      "in Super.method\n",
      "\n",
      "starting Sub.method\n",
      "in Super.method\n",
      "ending Sub.method\n"
     ]
    }
   ],
   "source": [
    "class Super:\n",
    "    def method(self):\n",
    "        print('in Super.method')\n",
    "\n",
    "class Sub(Super):\n",
    "    def method(self):                  # Переопределить метод\n",
    "        print('\\nstarting Sub.method') # Дополнительное действие\n",
    "        Super.method(self)             # Выполнить действие по умолчанию\n",
    "        print('ending Sub.method')\n",
    "        \n",
    "sup = Super()\n",
    "sup.method()\n",
    "\n",
    "sub = Sub()\n",
    "sub.method()"
   ]
  },
  {
   "cell_type": "markdown",
   "metadata": {},
   "source": [
    "Теперь рассмотрим классический пример реализации наследования на примере класса **Person** и наследника **Manager**.  Метод **giveRaise** будет отвечать за увеличение зарплаты. Если человек - менеджер, ему достанется больше:"
   ]
  },
  {
   "cell_type": "code",
   "execution_count": 15,
   "metadata": {},
   "outputs": [
    {
     "name": "stdout",
     "output_type": "stream",
     "text": [
      "Name : Bob Smith, job = None, pay = 0\n",
      "Name : Sue Jones, job = dev, pay = 100000\n",
      "Smith, Jones\n",
      "Name : Sue Jones, job = dev, pay = 110000\n",
      "Jones\n",
      "Name : Tom Jones, job = mgr, pay = 60000\n"
     ]
    }
   ],
   "source": [
    "class Person:\n",
    "    def __init__(self, name, job=None, pay=0): #конструктор\n",
    "        self.name = name\n",
    "        self.job = job\n",
    "        self.pay = pay\n",
    "    def lastName(self):\n",
    "        return self.name.split()[-1]\n",
    "    def giveRaise(self, percent):\n",
    "        self.pay = int(self.pay * (1 + percent))\n",
    "    def __str__(self):\n",
    "        return \"Name : {0}, job = {1}, pay = {2}\".format(self.name, self.job, self.pay)\n",
    "    \n",
    "class Manager(Person):\n",
    "    def __init__(self, name, pay):              # Переопределенный конструктор\n",
    "        Person.__init__(self, name, 'mgr', pay) # Вызов оригинального\n",
    "                                                # конструктора со значением\n",
    "                                                # ‘mgr’ в аргументе job\n",
    "                \n",
    "    def giveRaise(self, percent, bonus=.10):    # Переопределение метода\n",
    "        Person.giveRaise(self, percent + bonus) \n",
    "        \n",
    "        \n",
    "bob = Person('Bob Smith')\n",
    "sue = Person('Sue Jones', job='dev', pay=100000)\n",
    "print(bob)\n",
    "print(sue)\n",
    "print(bob.lastName(), sue.lastName(), sep =', ') #унаследованный метод\n",
    "sue.giveRaise(.10)\n",
    "print(sue)\n",
    "tom = Manager('Tom Jones', 50000) # Указывать должность не требуется:\n",
    "tom.giveRaise(.10)                # Подразумевается/устанавливается\n",
    "print(tom.lastName())             # классом\n",
    "print(tom)"
   ]
  },
  {
   "cell_type": "markdown",
   "metadata": {},
   "source": [
    "Статические методы\n",
    "-----\n",
    "\n",
    "Обычно методы получают объект экземпляра в первом аргументе, который играет роль подразумеваемого объекта вызова метода. Однако, бывает необходимо организовать обработку данных, связанных с классами, а не с экземплярами.\n",
    "\n",
    "Например, следить за числом экземпляров класса или вести список всех экземпляров класса, находящихся\n",
    "в настоящий момент в памяти.\n",
    "\n",
    "Для решения таких задач часто бывает достаточно простых функций, определения которых находятся за пределами классов. Такие функции могут обращаться к атрибутам класса через его имя – им требуется доступ только к данным класса и никогда – к экземплярам. Однако, чтобы теснее связать такой\n",
    "программный с классом и обеспечить возможность его адаптации с помощью\n",
    "механизма наследования, будет лучше помещать такого рода функции внутрь\n",
    "самого класса. \n",
    "\n",
    "Для этого можно использовать **статические методы – простые функции без аргумента self**\n",
    "\n",
    "Чтобы использовать метод как статический, необходимо внутри класса вызывать специальную встроеннкю функцию **staticmethod**  или использоваться декораторы.\n",
    "\n",
    "В Python  не требуется объявлять метод, как статический, если он\n",
    "будет вызываться только через имя класса, но мы обязаны объявлять его\n",
    "статическим, если он может вызываться через экземпляр (Закоментируйте в примере строку: printNumInstances = staticmethod(printNumInstances).\n",
    "\n",
    "Синтаксис объявления рассмотрим на примере:"
   ]
  },
  {
   "cell_type": "code",
   "execution_count": 36,
   "metadata": {},
   "outputs": [
    {
     "name": "stdout",
     "output_type": "stream",
     "text": [
      "Number of instances: 3\n",
      "Number of instances: 3\n"
     ]
    }
   ],
   "source": [
    "class Spam:                    # Для доступа к данным класса используется\n",
    "    numInstances = 0               # статический метод\n",
    "    def __init__(self):\n",
    "        Spam.numInstances += 1\n",
    "    def printNumInstances():\n",
    "        print('Number of instances:', Spam.numInstances)\n",
    "    printNumInstances = staticmethod(printNumInstances)\n",
    "    \n",
    "a = Spam()\n",
    "b = Spam()\n",
    "c = Spam()\n",
    "Spam.printNumInstances() # Вызывается, как простая функция\n",
    "a.printNumInstances() # Аргумент с экземпляром не передается"
   ]
  },
  {
   "cell_type": "code",
   "execution_count": null,
   "metadata": {},
   "outputs": [],
   "source": []
  }
 ],
 "metadata": {
  "kernelspec": {
   "display_name": "Python 3",
   "language": "python",
   "name": "python3"
  },
  "language_info": {
   "codemirror_mode": {
    "name": "ipython",
    "version": 3
   },
   "file_extension": ".py",
   "mimetype": "text/x-python",
   "name": "python",
   "nbconvert_exporter": "python",
   "pygments_lexer": "ipython3",
   "version": "3.7.1"
  }
 },
 "nbformat": 4,
 "nbformat_minor": 2
}
