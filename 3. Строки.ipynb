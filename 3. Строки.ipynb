{
 "cells": [
  {
   "cell_type": "markdown",
   "metadata": {},
   "source": [
    "# Строки\n",
    "\n",
    "В Python 3 мы имеем один строковый тип: str, который хранит данные в Unicode, и два байтовых типа: bytes и bytearray.\n",
    "В отличие от таких языков, как C#, в языке Python отсутствует специальный тип для представления единственного символа, поэтому в случае необходимости используются односимвольные строк\n",
    "\n",
    "Строки выделяются одинарными или двойными кавычками.\n"
   ]
  },
  {
   "cell_type": "code",
   "execution_count": 1,
   "metadata": {},
   "outputs": [],
   "source": [
    "my_string = \"This is a cat\"\n",
    "my_string = 'This is a cat.'"
   ]
  },
  {
   "cell_type": "markdown",
   "metadata": {},
   "source": [
    " Неформатированные строки используются для хранения имен каталогов в Windows, а также для регулярных выражений. Неформатированные строки (сырые строки) и экранированные последовательности:"
   ]
  },
  {
   "cell_type": "code",
   "execution_count": 2,
   "metadata": {},
   "outputs": [
    {
     "name": "stdout",
     "output_type": "stream",
     "text": [
      "https://docs.python.org/3/library/string.html\n",
      "s\n",
      "p\ta\u0000m\n"
     ]
    }
   ],
   "source": [
    "print(r\"https://docs.python.org/3/library/string.html\")\n",
    "print('s\\np\\ta\\x00m')"
   ]
  },
  {
   "cell_type": "markdown",
   "metadata": {},
   "source": [
    "**Блочная  строка** - формат, который удобно использовать для определения\n",
    "многострочных блоков текста в программном коде. Литералы в этой форме начинаются с трех идущих подряд кавычек (или апострофов), за которыми может следовать произвольное число строк текста, который закрывается такими\n",
    "же тремя кавычками. Внутри такой строки могут присутствовать и кавычки,\n",
    "и апострофы, но экранировать их не требуется – строка не считается завершенной, пока интерпретатор не встретит три неэкранированные кавычки того же типа, которые начинают литерал.\n",
    "\n",
    "Строки в тройных кавычках удобно использовать, когда в программе требуется ввести многострочный текст, например чтобы определить многострочный текст сообщения об ошибке или код разметки на языке HTML или XML. Также такие строки используются для составления коментариев к коду."
   ]
  },
  {
   "cell_type": "code",
   "execution_count": 1,
   "metadata": {},
   "outputs": [
    {
     "name": "stdout",
     "output_type": "stream",
     "text": [
      "Five little monkeys jumping on the bed\n",
      "One fell off and bumped his head\n",
      "Mama called         the doctor\n",
      "And the doctor        said\n",
      "No more monkeys jumping on the bed\n"
     ]
    }
   ],
   "source": [
    "s=\"\"\"Five little monkeys jumping on the bed\n",
    "One fell off and bumped his head\n",
    "Mama called         the doctor\n",
    "And the doctor        said\n",
    "No more monkeys jumping on the bed\"\"\"\n",
    "print(s)"
   ]
  },
  {
   "cell_type": "markdown",
   "metadata": {},
   "source": [
    "## Базовые операции и методы строк\n",
    "\n",
    "1. Длина строки **len(str)**\n",
    "2. **Конкатенация**: новая строка 'x'+'y'. (Однако, согласно PEP8, если вам важна производительность, рекомендуется строки объединять методом сепаратор.join(строки). Это будет гарантировать, что объединение происходит в линейное время в различных реализациях).\n",
    "3. Повторение **str*number**\n"
   ]
  },
  {
   "cell_type": "code",
   "execution_count": 3,
   "metadata": {},
   "outputs": [
    {
     "name": "stdout",
     "output_type": "stream",
     "text": [
      "ada lovelace\n",
      "spamspamspam\n"
     ]
    }
   ],
   "source": [
    "first_name = 'ada'\n",
    "last_name = 'lovelace'\n",
    "\n",
    "full_name = first_name + ' ' + last_name\n",
    "\n",
    "print(full_name)\n",
    "\n",
    "print('spam' * 3)"
   ]
  },
  {
   "cell_type": "markdown",
   "metadata": {},
   "source": [
    "\n",
    "**join** - сборка строки из списка по разделителю, применяется к разделителю"
   ]
  },
  {
   "cell_type": "code",
   "execution_count": 5,
   "metadata": {},
   "outputs": [
    {
     "name": "stdout",
     "output_type": "stream",
     "text": [
      "ada,lovelace\n"
     ]
    }
   ],
   "source": [
    "\n",
    "print(','.join([first_name,last_name]))"
   ]
  },
  {
   "cell_type": "markdown",
   "metadata": {},
   "source": [
    "***Разные регистры***"
   ]
  },
  {
   "cell_type": "code",
   "execution_count": 6,
   "metadata": {},
   "outputs": [
    {
     "name": "stdout",
     "output_type": "stream",
     "text": [
      "ada\n",
      "Ada\n",
      "ada\n",
      "ADA\n",
      "ada\n"
     ]
    }
   ],
   "source": [
    "\n",
    "print(first_name)\n",
    "print(first_name.title())\n",
    "print(first_name)\n",
    "print(first_name.upper())\n",
    "print(first_name.lower())"
   ]
  },
  {
   "cell_type": "markdown",
   "metadata": {},
   "source": [
    "Мы уже увидели некоторые методы строк. Полный список можно узнать методом dir с входящим параметром - str:"
   ]
  },
  {
   "cell_type": "code",
   "execution_count": 9,
   "metadata": {},
   "outputs": [
    {
     "data": {
      "text/plain": [
       "['__add__',\n",
       " '__class__',\n",
       " '__contains__',\n",
       " '__delattr__',\n",
       " '__dir__',\n",
       " '__doc__',\n",
       " '__eq__',\n",
       " '__format__',\n",
       " '__ge__',\n",
       " '__getattribute__',\n",
       " '__getitem__',\n",
       " '__getnewargs__',\n",
       " '__gt__',\n",
       " '__hash__',\n",
       " '__init__',\n",
       " '__init_subclass__',\n",
       " '__iter__',\n",
       " '__le__',\n",
       " '__len__',\n",
       " '__lt__',\n",
       " '__mod__',\n",
       " '__mul__',\n",
       " '__ne__',\n",
       " '__new__',\n",
       " '__reduce__',\n",
       " '__reduce_ex__',\n",
       " '__repr__',\n",
       " '__rmod__',\n",
       " '__rmul__',\n",
       " '__setattr__',\n",
       " '__sizeof__',\n",
       " '__str__',\n",
       " '__subclasshook__',\n",
       " 'capitalize',\n",
       " 'casefold',\n",
       " 'center',\n",
       " 'count',\n",
       " 'encode',\n",
       " 'endswith',\n",
       " 'expandtabs',\n",
       " 'find',\n",
       " 'format',\n",
       " 'format_map',\n",
       " 'index',\n",
       " 'isalnum',\n",
       " 'isalpha',\n",
       " 'isascii',\n",
       " 'isdecimal',\n",
       " 'isdigit',\n",
       " 'isidentifier',\n",
       " 'islower',\n",
       " 'isnumeric',\n",
       " 'isprintable',\n",
       " 'isspace',\n",
       " 'istitle',\n",
       " 'isupper',\n",
       " 'join',\n",
       " 'ljust',\n",
       " 'lower',\n",
       " 'lstrip',\n",
       " 'maketrans',\n",
       " 'partition',\n",
       " 'replace',\n",
       " 'rfind',\n",
       " 'rindex',\n",
       " 'rjust',\n",
       " 'rpartition',\n",
       " 'rsplit',\n",
       " 'rstrip',\n",
       " 'split',\n",
       " 'splitlines',\n",
       " 'startswith',\n",
       " 'strip',\n",
       " 'swapcase',\n",
       " 'title',\n",
       " 'translate',\n",
       " 'upper',\n",
       " 'zfill']"
      ]
     },
     "execution_count": 9,
     "metadata": {},
     "output_type": "execute_result"
    }
   ],
   "source": [
    "dir(str)"
   ]
  },
  {
   "cell_type": "markdown",
   "metadata": {},
   "source": [
    "Вызов помощи по методу: help(method)"
   ]
  },
  {
   "cell_type": "code",
   "execution_count": 43,
   "metadata": {},
   "outputs": [
    {
     "name": "stdout",
     "output_type": "stream",
     "text": [
      "Help on method_descriptor:\n",
      "\n",
      "find(...)\n",
      "    S.find(sub[, start[, end]]) -> int\n",
      "    \n",
      "    Return the lowest index in S where substring sub is found,\n",
      "    such that sub is contained within S[start:end].  Optional\n",
      "    arguments start and end are interpreted as in slice notation.\n",
      "    \n",
      "    Return -1 on failure.\n",
      "\n"
     ]
    }
   ],
   "source": [
    " help(str.find) #или так str.find?"
   ]
  },
  {
   "cell_type": "markdown",
   "metadata": {},
   "source": [
    "**Поиск подстроки**\n",
    "\n",
    "**find** - поиск подстроки в строке. Возвращает номер первого вхождения или -1"
   ]
  },
  {
   "cell_type": "code",
   "execution_count": 8,
   "metadata": {},
   "outputs": [
    {
     "name": "stdout",
     "output_type": "stream",
     "text": [
      "10\n",
      "30\n"
     ]
    }
   ],
   "source": [
    "#import this\n",
    "test_string=\"\"\"Simple is better than complex.\n",
    "Complex is better than complicated.\"\"\"\n",
    "print(test_string.find('better'))\n",
    "print(test_string.find('\\n'))"
   ]
  },
  {
   "cell_type": "markdown",
   "metadata": {},
   "source": [
    "**rfind** - поиск подстроки в строке. Возвращает номер последнего вхождения или -1"
   ]
  },
  {
   "cell_type": "code",
   "execution_count": 34,
   "metadata": {},
   "outputs": [
    {
     "name": "stdout",
     "output_type": "stream",
     "text": [
      "42\n"
     ]
    }
   ],
   "source": [
    "print(test_string.rfind('better'))"
   ]
  },
  {
   "cell_type": "markdown",
   "metadata": {},
   "source": [
    "Допускается выполнять обход элементов строки в цикле, используя инструкцию **for**, и проверять вхождение подстроки в строку с помощью оператора выражения **in**, который, по сути, выполняет операцию поиска. \n",
    "В случае поиска подстрок оператор **in** напоминает метод **str.find()** с тем отличием, что он возвращает логический результат, а не позицию подстроки в строке:"
   ]
  },
  {
   "cell_type": "code",
   "execution_count": 11,
   "metadata": {},
   "outputs": [
    {
     "name": "stdout",
     "output_type": "stream",
     "text": [
      "True\n",
      "S i m p l e   i s   b e t t e r   t h a n   c o m p l e x . \n",
      " C o m p l e x   i s   b e t t e r   t h a n   c o m p l i c a t e d . "
     ]
    }
   ],
   "source": [
    "print('than' in test_string)\n",
    "\n",
    "for symb in test_string:\n",
    "    print(symb,end = ' ') #показать без end "
   ]
  },
  {
   "cell_type": "markdown",
   "metadata": {},
   "source": [
    "Есть ли подстрока в строке:"
   ]
  },
  {
   "cell_type": "code",
   "execution_count": 12,
   "metadata": {},
   "outputs": [
    {
     "data": {
      "text/plain": [
       "False"
      ]
     },
     "execution_count": 12,
     "metadata": {},
     "output_type": "execute_result"
    }
   ],
   "source": [
    "'cats' in test_string"
   ]
  },
  {
   "cell_type": "markdown",
   "metadata": {},
   "source": [
    "**Удаление лишних пробелов или символов**\n"
   ]
  },
  {
   "cell_type": "code",
   "execution_count": 14,
   "metadata": {},
   "outputs": [
    {
     "name": "stdout",
     "output_type": "stream",
     "text": [
      "-Name   -\n",
      "-  Name-\n",
      "-Name-\n",
      "Name\n"
     ]
    }
   ],
   "source": [
    "name = '  Name   '\n",
    "\n",
    "print('-' + name.lstrip() + '-')\n",
    "print('-' + name.rstrip() + '-')\n",
    "print('-' + name.strip() + '-')\n",
    "\n",
    "name = '..Name..'\n",
    "print(name.strip('.'))\n"
   ]
  },
  {
   "cell_type": "markdown",
   "metadata": {},
   "source": [
    "**replace** - замена по шаблону"
   ]
  },
  {
   "cell_type": "code",
   "execution_count": 20,
   "metadata": {},
   "outputs": [
    {
     "name": "stdout",
     "output_type": "stream",
     "text": [
      "..Cat..\n",
      "..Name..\n",
      "wow wow bla\n"
     ]
    }
   ],
   "source": [
    "print(name.replace('Name','Cat'))\n",
    "print(name)\n",
    "\n",
    "print(\"bla bla bla\".replace(\"bla\", \"wow\",2))"
   ]
  },
  {
   "cell_type": "markdown",
   "metadata": {},
   "source": [
    "**count** - подсчет вхождения подстроки в строке"
   ]
  },
  {
   "cell_type": "code",
   "execution_count": 38,
   "metadata": {},
   "outputs": [
    {
     "name": "stdout",
     "output_type": "stream",
     "text": [
      "3\n",
      "4\n"
     ]
    }
   ],
   "source": [
    "print(\"bla bla bla\".count(\"bla\"))\n",
    "print(\"To be or not to be\".count('o'))"
   ]
  },
  {
   "cell_type": "markdown",
   "metadata": {},
   "source": [
    "**split** - разбиение строки по разделителю"
   ]
  },
  {
   "cell_type": "code",
   "execution_count": 24,
   "metadata": {},
   "outputs": [
    {
     "data": {
      "text/plain": [
       "['Simple',\n",
       " 'is',\n",
       " 'better',\n",
       " 'than',\n",
       " 'complex.',\n",
       " 'Complex',\n",
       " 'is',\n",
       " 'better',\n",
       " 'than',\n",
       " 'complicated.']"
      ]
     },
     "execution_count": 24,
     "metadata": {},
     "output_type": "execute_result"
    }
   ],
   "source": [
    "test_string.split()"
   ]
  },
  {
   "cell_type": "code",
   "execution_count": 21,
   "metadata": {},
   "outputs": [
    {
     "data": {
      "text/plain": [
       "['Simple is better than complex', '\\nComplex is better than complicated', '']"
      ]
     },
     "execution_count": 21,
     "metadata": {},
     "output_type": "execute_result"
    }
   ],
   "source": [
    "test_string.split('.')"
   ]
  },
  {
   "cell_type": "markdown",
   "metadata": {},
   "source": [
    "* **isdigit** - состоит ли строка из цифр;\n",
    "* **isalpha** - состоит ли строка из букв;\n",
    "* **isalnum** - состоит ли строка из цифр или букв;\n",
    "* **islower** - состоит ли строка из символов в нижнем регистре;\n",
    "* **isupper** - состоит ли строка из символов в верхнем регистре;\n",
    "* **istitle** - начинаются ли слова в строке с заглавной буквы."
   ]
  },
  {
   "cell_type": "markdown",
   "metadata": {},
   "source": [
    "**Доступ по индексам и извлечение подстроки**\n",
    "\n",
    "Так как строки определены как упорядоченные коллекции символов, мы можем обращаться к элементам строк по номерам позиций. Python также позволяет извлекать элементы последовательностей, таких как строки, используя отрицательные смещения.\n"
   ]
  },
  {
   "cell_type": "code",
   "execution_count": 22,
   "metadata": {},
   "outputs": [
    {
     "name": "stdout",
     "output_type": "stream",
     "text": [
      "I a\n"
     ]
    }
   ],
   "source": [
    "test_string = 'I love cats'\n",
    "print(test_string[0], test_string[-3])"
   ]
  },
  {
   "cell_type": "markdown",
   "metadata": {},
   "source": [
    "В дополнение к простой возможности индексирования по номеру позиции, последовательности поддерживают более общую форму индексирования, известную как получение среза (slicing), которая обеспечивает возможность извлечения за одну операцию целого сегмента (среза)."
   ]
  },
  {
   "cell_type": "code",
   "execution_count": 24,
   "metadata": {},
   "outputs": [
    {
     "name": "stdout",
     "output_type": "stream",
     "text": [
      "Ilv a\n"
     ]
    }
   ],
   "source": [
    "print(test_string[:9:2])"
   ]
  },
  {
   "cell_type": "markdown",
   "metadata": {},
   "source": [
    "В общем виде синтаксис операции получения среза выглядит как: X[I:J], и означает: «извлечь из X все, начиная со смещения I и до\n",
    "смещения J, но не включая его». В качестве результата возвращается новый объект. При выполнении операции получения среза левая граница по умолчанию принимается равной нулю, а правая – длине последовательности, к которой применяется операция. В результате мы получаем следующие наиболее распространенные варианты использования:"
   ]
  },
  {
   "cell_type": "code",
   "execution_count": 5,
   "metadata": {},
   "outputs": [
    {
     "name": "stdout",
     "output_type": "stream",
     "text": [
      " love cats\n",
      " l\n",
      "I l\n",
      "I love cat\n",
      " oect\n",
      "stac evol I\n"
     ]
    }
   ],
   "source": [
    "s='I love cats'\n",
    "print(s[1:])\n",
    "print(s[1:3])\n",
    "print(s[:3])\n",
    "print(s[:-1])\n",
    "print(s[1::2])\n",
    "print(s[::-1])"
   ]
  },
  {
   "cell_type": "markdown",
   "metadata": {},
   "source": [
    "Третий индекс используется как шаг. Величина шага добавляется к индексу каждого\n",
    "извлекаемого элемента. Полная форма записи операции извлечения подстроки выглядит так: X[I:J:K]. \n",
    "Она означает: «Извлечь все элементы последовательности X, начиная со смещения I, вплоть до смещения J-1, с шагом K».\n",
    " \n",
    " Третий предел, K, по умолчанию имеет значение 1, именно по этой причине\n",
    "в обычной ситуации извлекаются все элементы среза, слева направо. Однако\n",
    "если явно указать значение третьего предела, его можно использовать, чтобы\n",
    "пропустить некоторые элементы или полностью изменить их порядок.\n",
    "\n",
    "Можно также использовать отрицательное значение шага. Например, выражение “hello”[::-1] вернет новую строку “olleh”.\n",
    "\n",
    "При использовании отрицательного шага порядок применения первых двух\n",
    "границ меняется на противоположный. То есть выражение S[5:1:-1] извлечет\n",
    "элемент со 2 по 5 в обратном порядке (результат будет содержать элементы последовательности со смещениями 5, 4, 3 и 2):"
   ]
  },
  {
   "cell_type": "code",
   "execution_count": 44,
   "metadata": {},
   "outputs": [
    {
     "data": {
      "text/plain": [
       "'fedc'"
      ]
     },
     "execution_count": 44,
     "metadata": {},
     "output_type": "execute_result"
    }
   ],
   "source": [
    "s='abcdefg'\n",
    "s[5:1:-1]"
   ]
  },
  {
   "cell_type": "markdown",
   "metadata": {},
   "source": [
    "Пропуск элементов и изменение порядка их следования – это наиболее типичные случаи использования операции получения среза с тремя пределами."
   ]
  },
  {
   "cell_type": "markdown",
   "metadata": {},
   "source": [
    "**Форматирование строк**\n",
    "\n",
    "Чтобы использовать форматированные строковые литералы, перед открывающей  или тройной кавычкой укажите f или F. Внутри этой строки можно указывать переменные для отображения в {}"
   ]
  },
  {
   "cell_type": "code",
   "execution_count": 31,
   "metadata": {},
   "outputs": [
    {
     "name": "stdout",
     "output_type": "stream",
     "text": [
      "Results of the 2019.77 Referendum\n"
     ]
    }
   ],
   "source": [
    "year = 2019.76860687678\n",
    "event = 'Referendum'\n",
    "print(f'Results of the {year:.2f} {event}')\n"
   ]
  },
  {
   "cell_type": "markdown",
   "metadata": {},
   "source": [
    "При форматировании можно использовать спецификаторы формата. С некоторыми мы уже познакомились, когда рассматривали числовые типы:\n",
    " * **d** - Десятичное (целое) число\n",
    " * **i** - Целое число\n",
    " * **o** - Восьмеричное целое число\n",
    " * x ( X ) - Шестнадцатеричное целое число (шестнадцатеричные цифры возвращаются в верхнем регистре)\n",
    " * e (E) - Вещественное число в экспоненциальной форме (... в верхнем регистре)\n",
    " * **f** - Вещественное число в десятичном представлении"
   ]
  },
  {
   "cell_type": "code",
   "execution_count": 26,
   "metadata": {},
   "outputs": [
    {
     "name": "stdout",
     "output_type": "stream",
     "text": [
      " 23.423730   23.424\n"
     ]
    }
   ],
   "source": [
    "number = 23.4237298791\n",
    "print(f' {number:.6f}  {number: .3f}')"
   ]
  },
  {
   "cell_type": "markdown",
   "metadata": {},
   "source": [
    "Как видно из примера выше, вы можете указывать точность представления отоборажаемой переменной после **:**"
   ]
  },
  {
   "cell_type": "markdown",
   "metadata": {},
   "source": [
    " Можно форматировать строки с помощью метода строк **str.format ()**, однако в данном случае имена переменных, которые вы хотите отобразить в строке перечисляются в () как параметры метода **format**"
   ]
  },
  {
   "cell_type": "code",
   "execution_count": 35,
   "metadata": {},
   "outputs": [
    {
     "name": "stdout",
     "output_type": "stream",
     "text": [
      "  42572654 YES votes  49.67%\n"
     ]
    }
   ],
   "source": [
    "yes_votes = 42_572_654\n",
    "no_votes = 43_132_495\n",
    "percentage = yes_votes / (yes_votes + no_votes)\n",
    "print('{:10} YES votes  {:2.2%}'.format(yes_votes, percentage))\n"
   ]
  },
  {
   "cell_type": "code",
   "execution_count": 37,
   "metadata": {},
   "outputs": [
    {
     "name": "stdout",
     "output_type": "stream",
     "text": [
      "Sjoerd     ==>       4127\n",
      "Jack       ==>       4098\n",
      "Dcab       ==>       7678\n"
     ]
    }
   ],
   "source": [
    "table = {'Sjoerd': 4127, 'Jack': 4098, 'Dcab': 7678}\n",
    "for name, phone in table.items():\n",
    "    print(f'{name:10} ==> {phone:10d}')"
   ]
  },
  {
   "cell_type": "markdown",
   "metadata": {},
   "source": [
    " По поводу метода **print**. По умолчанию данный метод выводит информацию в новой строке, разделитель между параметрами - пробел:\n",
    "         \n",
    "         print(*objects, sep=' ', end='\\n', file=sys.stdout, flush=False)\n",
    "         \n",
    " Как видно данный метод имеет параметры по умолчанию. Вы можете задавать другие значения.\n"
   ]
  },
  {
   "cell_type": "code",
   "execution_count": 32,
   "metadata": {},
   "outputs": [
    {
     "name": "stdout",
     "output_type": "stream",
     "text": [
      "cat dog pig something else\n"
     ]
    }
   ],
   "source": [
    "print('cat','dog','pig','something else')"
   ]
  },
  {
   "cell_type": "code",
   "execution_count": 35,
   "metadata": {},
   "outputs": [
    {
     "name": "stdout",
     "output_type": "stream",
     "text": [
      "cat____dog____pig____something else\tmouse\n"
     ]
    }
   ],
   "source": [
    "print('cat','dog','pig','something else', sep='____', end='\\t')\n",
    "print('mouse')"
   ]
  },
  {
   "cell_type": "markdown",
   "metadata": {},
   "source": [
    "Больше информации по форматированию можно найти в стандартном руководстве по Python"
   ]
  },
  {
   "cell_type": "markdown",
   "metadata": {},
   "source": [
    "Сравенение строк\n",
    "--------------\n",
    "\n",
    " При сравнении строк принимается во внимание символы и их регистр. Так, цифровой символ условно меньше, чем любой алфавитный символ. Алфавитный символ в верхнем регистре условно меньше, чем алфавитные символы в нижнем регистре."
   ]
  },
  {
   "cell_type": "code",
   "execution_count": 37,
   "metadata": {},
   "outputs": [
    {
     "name": "stdout",
     "output_type": "stream",
     "text": [
      "False\n",
      "True\n"
     ]
    }
   ],
   "source": [
    "str1 = \"1a\"\n",
    "str2 = \"aa\"\n",
    "str3 = \"Aa\"\n",
    "print(str1 > str2)  # False, так как первый символ в str1 - цифра\n",
    "print(str2 > str3)  # True, так как первый символ в str2 - в нижнем регистре"
   ]
  },
  {
   "cell_type": "code",
   "execution_count": 38,
   "metadata": {},
   "outputs": [
    {
     "name": "stdout",
     "output_type": "stream",
     "text": [
      "False\n",
      "True\n"
     ]
    }
   ],
   "source": [
    "str1 = \"Tom\"\n",
    "str2 = \"tom\"\n",
    "print(str1 == str2) \n",
    " \n",
    "print(str1.lower() == str2.lower()) "
   ]
  },
  {
   "cell_type": "code",
   "execution_count": null,
   "metadata": {},
   "outputs": [],
   "source": []
  }
 ],
 "metadata": {
  "kernelspec": {
   "display_name": "Python 3",
   "language": "python",
   "name": "python3"
  },
  "language_info": {
   "codemirror_mode": {
    "name": "ipython",
    "version": 3
   },
   "file_extension": ".py",
   "mimetype": "text/x-python",
   "name": "python",
   "nbconvert_exporter": "python",
   "pygments_lexer": "ipython3",
   "version": "3.7.1"
  }
 },
 "nbformat": 4,
 "nbformat_minor": 2
}
