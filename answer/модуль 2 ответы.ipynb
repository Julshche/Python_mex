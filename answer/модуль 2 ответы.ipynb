{
 "cells": [
  {
   "cell_type": "markdown",
   "metadata": {},
   "source": [
    "2. \n"
   ]
  },
  {
   "cell_type": "code",
   "execution_count": null,
   "metadata": {},
   "outputs": [],
   "source": [
    "def s(a, *vs, b=10):\n",
    "       res = a + b\n",
    "       for v in vs:\n",
    "           res += v\n",
    "       return res"
   ]
  },
  {
   "cell_type": "markdown",
   "metadata": {},
   "source": [
    "3."
   ]
  },
  {
   "cell_type": "code",
   "execution_count": 2,
   "metadata": {},
   "outputs": [
    {
     "name": "stdout",
     "output_type": "stream",
     "text": [
      "2\n",
      "1\n",
      "3\n"
     ]
    }
   ],
   "source": [
    "x, y = 1, 2\n",
    "\n",
    "def foo():\n",
    "    global y\n",
    "    if y == 2:\n",
    "        x = 2\n",
    "        y = 1\n",
    "\n",
    "foo()\n",
    "print(x)\n",
    "if y == 1:\n",
    "    x = 3\n",
    "print(x)"
   ]
  },
  {
   "cell_type": "markdown",
   "metadata": {},
   "source": [
    "4. \n"
   ]
  },
  {
   "cell_type": "code",
   "execution_count": 3,
   "metadata": {},
   "outputs": [
    {
     "name": "stdout",
     "output_type": "stream",
     "text": [
      "2\n",
      "3\n",
      "3\n"
     ]
    }
   ],
   "source": [
    "class A:\n",
    "    val = 1\n",
    "\n",
    "    def foo(self):\n",
    "        A.val += 2\n",
    "\n",
    "    def bar(self):\n",
    "        self.val += 1\n",
    "\n",
    "\n",
    "a = A()\n",
    "b = A()\n",
    "\n",
    "a.bar()\n",
    "a.foo()\n",
    "\n",
    "c = A()\n",
    "\n",
    "print(a.val)\n",
    "print(b.val)\n",
    "print(c.val)"
   ]
  },
  {
   "cell_type": "code",
   "execution_count": null,
   "metadata": {},
   "outputs": [],
   "source": []
  }
 ],
 "metadata": {
  "kernelspec": {
   "display_name": "Python 3",
   "language": "python",
   "name": "python3"
  },
  "language_info": {
   "codemirror_mode": {
    "name": "ipython",
    "version": 3
   },
   "file_extension": ".py",
   "mimetype": "text/x-python",
   "name": "python",
   "nbconvert_exporter": "python",
   "pygments_lexer": "ipython3",
   "version": "3.7.1"
  }
 },
 "nbformat": 4,
 "nbformat_minor": 2
}
