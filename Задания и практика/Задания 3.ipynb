{
 "cells": [
  {
   "cell_type": "markdown",
   "metadata": {},
   "source": [
    " **1**\n",
    "\n",
    "Your task is to make a function that can take any non-negative integer as a argument and return it with its digits in descending order. Essentially, rearrange the digits to create the highest possible number.\n",
    "\n",
    "Examples:\n",
    "Input: 21445 Output: 54421\n",
    "\n",
    "Input: 145263 Output: 654321\n",
    "\n",
    "Input: 1254859723 Output: 9875543221"
   ]
  },
  {
   "cell_type": "code",
   "execution_count": null,
   "metadata": {},
   "outputs": [],
   "source": []
  },
  {
   "cell_type": "markdown",
   "metadata": {},
   "source": [
    " **2**\n",
    "\n",
    "You are given an array (which will have a length of at least 3, but could be very large) containing integers. The array is either entirely comprised of odd integers or entirely comprised of even integers except for a single integer N. Write a method that takes the array as an argument and returns this \"outlier\" N.\n",
    "\n",
    "Examples\n",
    "[2, 4, 0, 100, 4, 11, 2602, 36]\n",
    "Should return: 11 (the only odd number)\n",
    "\n",
    "[160, 3, 1719, 19, 11, 13, -21]\n",
    "Should return: 160 (the only even number)"
   ]
  },
  {
   "cell_type": "code",
   "execution_count": null,
   "metadata": {},
   "outputs": [],
   "source": []
  },
  {
   "cell_type": "markdown",
   "metadata": {},
   "source": [
    " **3**\n",
    " \n",
    "Given: an array containing hashes of names\n",
    "\n",
    "Return: a string formatted as a list of names separated by commas except for the last two names, which should be separated by an ampersand.\n",
    "\n",
    "namelist([ {'name': 'Bart'}, {'name': 'Lisa'}, {'name': 'Maggie'} ])\n",
    "    # returns 'Bart, Lisa & Maggie'\n",
    "\n",
    "namelist([ {'name': 'Bart'}, {'name': 'Lisa'} ])\n",
    "    # returns 'Bart & Lisa'\n",
    "\n",
    "namelist([ {'name': 'Bart'} ])\n",
    "    # returns 'Bart'\n",
    "\n",
    "namelist([])\n",
    "    # returns ''"
   ]
  },
  {
   "cell_type": "markdown",
   "metadata": {},
   "source": [
    "Write a function that accepts two square matrices (N x N two dimensional arrays), and return the sum of the two. Both matrices being passed into the function will be of size N x N (square), containing only integers.\n",
    "\n",
    "How to sum two matrices:\n",
    "\n",
    "Take each cell [n][m] from the first matrix, and add it with the same [n][m] cell from the second matrix. This will be cell [n][m] of the solution matrix.\n",
    "\n",
    "Visualization:\n",
    "\n",
    "    |1 2 3|     |2 2 1|     |1+2 2+2 3+1|     |3 4 4|\n",
    "    |3 2 1|  +  |3 2 3|  =  |3+3 2+2 1+3|  =  |6 4 4|\n",
    "    |1 1 1|     |1 1 3|     |1+1 1+1 1+3|     |2 2 4|\n",
    "Example\n",
    "\n",
    "    matrixAddition(\n",
    "       [ [1, 2, 3],\n",
    "         [3, 2, 1],\n",
    "         [1, 1, 1] ],\n",
    "     //      +\n",
    "        [ [2, 2, 1],\n",
    "          [3, 2, 3],\n",
    "          [1, 1, 3] ] )\n",
    "\n",
    "    // returns:\n",
    "      [ [3, 4, 4],\n",
    "        [6, 4, 4],\n",
    "        [2, 2, 4] ]"
   ]
  },
  {
   "cell_type": "markdown",
   "metadata": {},
   "source": [
    "**4**\n",
    "\n",
    "Complete the function that accepts a string parameter, and reverses each word in the string. All spaces in the string should be retained.\n",
    "\n",
    "Examples\n",
    "\"This is an example!\" ==> \"sihT si na !elpmaxe\"\n",
    "\n",
    "\"double  spaces\"      ==> \"elbuod  secaps\""
   ]
  },
  {
   "cell_type": "markdown",
   "metadata": {},
   "source": [
    "_______________________\n",
    "\n",
    "Как работать с вложенными списками:"
   ]
  },
  {
   "cell_type": "code",
   "execution_count": 11,
   "metadata": {},
   "outputs": [
    {
     "data": {
      "text/plain": [
       "[[2, 2, 1], [3, 1, 1], [4, 1, 0]]"
      ]
     },
     "execution_count": 11,
     "metadata": {},
     "output_type": "execute_result"
    }
   ],
   "source": [
    "A =  [ [1, 2, 3, 4, 5],\n",
    "       [3, 2, 1, 1, 1],\n",
    "       [1, 1, 1, 0, 0],\n",
    "       [0, 0, 0, 0, 0],]\n",
    "\n",
    "[[row[i] for row in A[:3]] for i in range(1,4)]\n"
   ]
  },
  {
   "cell_type": "code",
   "execution_count": 17,
   "metadata": {},
   "outputs": [
    {
     "data": {
      "text/plain": [
       "[[2, 3, 4], [2, 1, 1], [1, 1, 0], [0, 0, 0]]"
      ]
     },
     "execution_count": 17,
     "metadata": {},
     "output_type": "execute_result"
    }
   ],
   "source": [
    "[[row[i] for i in range(1,4)]  for row in A]"
   ]
  },
  {
   "cell_type": "code",
   "execution_count": null,
   "metadata": {},
   "outputs": [],
   "source": []
  }
 ],
 "metadata": {
  "kernelspec": {
   "display_name": "Python 3",
   "language": "python",
   "name": "python3"
  },
  "language_info": {
   "codemirror_mode": {
    "name": "ipython",
    "version": 3
   },
   "file_extension": ".py",
   "mimetype": "text/x-python",
   "name": "python",
   "nbconvert_exporter": "python",
   "pygments_lexer": "ipython3",
   "version": "3.7.1"
  }
 },
 "nbformat": 4,
 "nbformat_minor": 2
}
