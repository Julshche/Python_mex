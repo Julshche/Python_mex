{
 "cells": [
  {
   "cell_type": "markdown",
   "metadata": {},
   "source": [
    "1. Пример на классы и атрибуты"
   ]
  },
  {
   "cell_type": "code",
   "execution_count": 31,
   "metadata": {},
   "outputs": [
    {
     "name": "stdout",
     "output_type": "stream",
     "text": [
      "1 5\n",
      "10 5\n"
     ]
    }
   ],
   "source": [
    "class Person:\n",
    "        \n",
    "        \"\"\"Dog class example\"\"\"\n",
    "        skills = 1  # Class variable shared by all instances.\n",
    "\n",
    "        def __init__(self, name):\n",
    "            self.name = name  # Instance variable unique to each instance.\n",
    "\n",
    "a = Person(\"Sem\")\n",
    "b = Person(\"Min\")\n",
    "b.skills = 5\n",
    "print(a.skills, b.skills)\n",
    "Person.skills = 10\n",
    "print(a.skills, b.skills) \n",
    "# у б мы переопределили атрибут skills, поэтому изменение значения атрибута класса на него не влияет"
   ]
  },
  {
   "cell_type": "markdown",
   "metadata": {},
   "source": [
    "2. Реализуйте класс **MoneyBox**, для работы с виртуальной копилкой.\n",
    "\n",
    "Каждая копилка имеет ограниченную вместимость, которая выражается целым числом – количеством монет, которые можно положить в копилку. Класс должен поддерживать информацию о количестве монет в копилке, предоставлять возможность добавлять монеты в копилку и узнавать, можно ли добавить в копилку ещё какое-то количество монет, не превышая ее вместимость.\n",
    "\n",
    "Класс должен иметь следующий вид\n",
    "\n",
    "class MoneyBox:\n",
    "    \n",
    "    def __init__(self, capacity):\n",
    "        # конструктор с аргументом – вместимость копилки\n",
    "\n",
    "    def can_add(self, v):\n",
    "        # True, если можно добавить v монет, False иначе\n",
    "\n",
    "    def add(self, v):\n",
    "        # положить v монет в копилку\n",
    "При создании копилки, число монет **value** в ней равно 0.\n",
    "Примечание:\n",
    "Гарантируется, что метод **add(self, v)** будет вызываться только если **can_add(self, v) – True**."
   ]
  },
  {
   "cell_type": "code",
   "execution_count": 28,
   "metadata": {},
   "outputs": [
    {
     "data": {
      "text/plain": [
       "0"
      ]
     },
     "execution_count": 28,
     "metadata": {},
     "output_type": "execute_result"
    }
   ],
   "source": [
    "class MoneyBox:\n",
    "    \n",
    "    def __init__(self, capacity):    # конструктор с аргументом – вместимость копилки            \n",
    "            self.capacity = capacity\n",
    "            self.value = 0\n",
    "            \n",
    "    def can_add(self, v):            # True, если можно добавить v монет, False иначе    \n",
    "            if v < self.capacity:\n",
    "                return True\n",
    "            return False\n",
    "\n",
    "    def add(self, v):\n",
    "            # положить v монет в копилку\n",
    "            if self.can_add( v):\n",
    "                self.value+=v\n",
    "\n",
    "                \n",
    "a = MoneyBox(20)\n",
    "a.can_add(30)\n",
    "a.add(30)\n",
    "a.value"
   ]
  },
  {
   "cell_type": "markdown",
   "metadata": {},
   "source": [
    "3. Пример с испольщованием super().\n",
    "Реализуем иерархию вида:\n",
    "    \n",
    "    \n",
    "        A\n",
    "       / \\\n",
    "      B   C\n",
    "       \\ /\n",
    "        D\n",
    "    \n",
    "В этом случае порядок наследования будет:\n",
    "\n",
    "        A\n",
    "       / ⇖\n",
    "      B ⇒ C\n",
    "       ⇖ /\n",
    "        D\n",
    "        \n",
    "        "
   ]
  },
  {
   "cell_type": "code",
   "execution_count": 3,
   "metadata": {},
   "outputs": [
    {
     "name": "stdout",
     "output_type": "stream",
     "text": [
      "I'm from D\n",
      "I'm from B\n",
      "I'm from C\n",
      "I'm from A\n"
     ]
    },
    {
     "data": {
      "text/plain": [
       "(__main__.D, __main__.B, __main__.C, __main__.A, object)"
      ]
     },
     "execution_count": 3,
     "metadata": {},
     "output_type": "execute_result"
    }
   ],
   "source": [
    "class A(object): \n",
    "    def __init__(self):  \n",
    "         print(\"I'm from A\")\n",
    "  \n",
    "class B(A):\n",
    "    def __init__(self):\n",
    "        print(\"I'm from B\")\n",
    "        super().__init__()\n",
    "  \n",
    "class C(A):\n",
    "    def __init__(self):\n",
    "        print(\"I'm from C\")\n",
    "        super().__init__()\n",
    " \n",
    "class D(B, C):\n",
    "    def __init__(self):\n",
    "        print(\"I'm from D\")\n",
    "        super().__init__()\n",
    "        \n",
    "d = D()\n",
    "D.__mro__"
   ]
  },
  {
   "cell_type": "markdown",
   "metadata": {},
   "source": [
    "Теперь попробуйте вызывать метод super() в начале метода одного из классов, затем у всех:"
   ]
  },
  {
   "cell_type": "code",
   "execution_count": 6,
   "metadata": {},
   "outputs": [
    {
     "name": "stdout",
     "output_type": "stream",
     "text": [
      "I'm from D\n",
      "I'm from C\n",
      "I'm from A\n",
      "I'm from B\n"
     ]
    },
    {
     "data": {
      "text/plain": [
       "(__main__.D, __main__.B, __main__.C, __main__.A, object)"
      ]
     },
     "execution_count": 6,
     "metadata": {},
     "output_type": "execute_result"
    }
   ],
   "source": [
    "class A(object): \n",
    "    def __init__(self):  \n",
    "         print(\"I'm from A\")\n",
    "  \n",
    "class B(A):\n",
    "    def __init__(self):\n",
    "        super().__init__()\n",
    "        print(\"I'm from B\")\n",
    "        \n",
    "  \n",
    "class C(A):\n",
    "    def __init__(self):\n",
    "        print(\"I'm from C\")\n",
    "        super().__init__()\n",
    " \n",
    "class D(B, C):\n",
    "    def __init__(self):\n",
    "        print(\"I'm from D\")\n",
    "        super().__init__()\n",
    "        \n",
    "d = D()\n",
    "D.__mro__"
   ]
  },
  {
   "cell_type": "code",
   "execution_count": null,
   "metadata": {},
   "outputs": [],
   "source": []
  }
 ],
 "metadata": {
  "kernelspec": {
   "display_name": "Python 3",
   "language": "python",
   "name": "python3"
  },
  "language_info": {
   "codemirror_mode": {
    "name": "ipython",
    "version": 3
   },
   "file_extension": ".py",
   "mimetype": "text/x-python",
   "name": "python",
   "nbconvert_exporter": "python",
   "pygments_lexer": "ipython3",
   "version": "3.7.1"
  }
 },
 "nbformat": 4,
 "nbformat_minor": 2
}
