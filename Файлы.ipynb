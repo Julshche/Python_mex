{
 "cells": [
  {
   "cell_type": "markdown",
   "metadata": {},
   "source": [
    "Объекты-файлы – это основной интерфейс между программным кодом на языке Python и внешними файлами на компьютере. Файлы являются одним из\n",
    "базовых типов, но они представляют собой нечто необычное, поскольку для\n",
    "файлов отсутствует возможность создания объектов в виде литералов. Вместо\n",
    "этого, чтобы создать объект файла, необходимо вызвать встроенную функцию\n",
    "**open**, передав ей имя внешнего файла и строку режима доступа к файлу. \n",
    "\n",
    "Режим|Обозначение\n",
    "------------- | -------------\n",
    "‘r’ |открытие на чтение (является значением по умолчанию).\n",
    "‘w’ |открытие на запись, содержимое файла удаляется, если файла не существует, создается новый.\n",
    "‘x’ |открытие на запись, если файла не существует, иначе исключение.\n",
    "‘a’ |открытие на дозапись, информация добавляется в конец файла.\n",
    "‘b’ |открытие в двоичном режиме.\n",
    "‘t’ |открытие в текстовом режиме (является значением по умолчанию).\n",
    "‘+’ |открытие на чтение и запись\n",
    "\n",
    "Режимы могут быть объединены, то есть, к примеру, 'rb' - чтение в двоичном режиме. По умолчанию режим равен 'rt'.\n",
    "\n",
    "Кроме того, функция может принимать третий необязательный аргумент, управляющий буферизацией выводимых данных, – значение ноль означает, что выходная информация\n",
    "не будет буферизироваться (то есть она будет записываться во внешний файл\n",
    "сразу же, в момент вызова метода записи).\n",
    "\n",
    "При работе с файлами в Python 3.0 проводится очень четкая грань между текстовыми и двоичными данными:\n",
    "* Содержимое текстовых  файлов представляется в виде обычных строк типа **str**, выполняется автоматическое кодирование/декодирование символов Юникода и по умолчанию производится интерпретация символов конца строки.\n",
    "*  Содержимое двоичных файлов представляется в виде строк типа bytes, и онопередается программе без каких-либо изменений."
   ]
  },
  {
   "cell_type": "markdown",
   "metadata": {},
   "source": [
    "Операция |Интерпретация\n",
    "---------|----------------\n",
    "aString = input.read(N) |Чтение следующих N символов (или байтов)в строку\n",
    "aString = input.readline() |Чтение следующей текстовой строки (включая символ конца строки) в строку\n",
    "aList = input.readlines()| Чтение файла целиком в список строк(включая символ конца строки)\n",
    "output.write(aString)| Запись строки символов (или байтов) в файл\n",
    "output.writelines(aList)| Запись всех строк из списка в файл\n",
    "output.close() |Закрытие файла вручную (выполняется по окончании работы с файлом)\n",
    "output.flush() |Выталкивает выходные буферы на диск, файл остается открытым\n",
    "anyFile.seek(N) |Изменяет текущую позицию в файле для следующей операции, смещая ее на N байтов от начала файла.\n",
    "for line in open(‘data’):операции над line| Итерации по файлу, построчное чтение\n",
    "open(‘f.txt’, encoding=’latin-1’)|Файлы с текстом Юникода в Python 3.0 (строки типа str)\n",
    "open(‘f.bin’, ‘rb’)| Файлы с двоичными данными в Python 3.0(строки типа bytes)"
   ]
  },
  {
   "cell_type": "markdown",
   "metadata": {},
   "source": [
    "методы записи не добавляют символ конца строки, поэтому \n",
    "необходимо самостоятельно добавлять его в выводимые строки (в противном случае следующая операция записи просто продолжит текущую строку в файле).\n",
    "\n",
    "Метод **write()** записывает любую строку в открытый файл. Важно помнить, что строки в Python могут содержать двоичные данные, а не только текст."
   ]
  },
  {
   "cell_type": "code",
   "execution_count": 1,
   "metadata": {},
   "outputs": [
    {
     "name": "stdout",
     "output_type": "stream",
     "text": [
      "6\n",
      "Имя файла:  data.txt\n",
      "Файл закрыт:  False\n",
      "В каком режиме файл открыт:  w\n"
     ]
    }
   ],
   "source": [
    "my_file = open('data.txt', 'w') # Создается новый файл для вывода\n",
    "my_file.write('Hello\\n') # Запись строки байтов в файл\n",
    "print(my_file.write('world\\n')) # В Python  возвращает количество записанных байтов\n",
    "my_file.write(', '.join(['some', ' new']))\n",
    "print(\"Имя файла: \", my_file.name)\n",
    "print(\"Файл закрыт: \", my_file.closed)\n",
    "print(\"В каком режиме файл открыт: \", my_file.mode)\n",
    "my_file.close() # Закрывает файл"
   ]
  },
  {
   "cell_type": "markdown",
   "metadata": {},
   "source": [
    " Как только объект файла освобождается, интерпретатор\n",
    "автоматически закрывает ассоциированный с ним файл (что происходит\n",
    "также в момент завершения программы). Благодаря этому вам не требуется закрывать файл вручную, особенно в небольших сценариях, которые\n",
    "выполняются непродолжительное время. С другой стороны, вызов метода\n",
    "**close** не повредит, и его рекомендуется использовать в крупных системах."
   ]
  },
  {
   "cell_type": "markdown",
   "metadata": {},
   "source": [
    "Чтение из файла возможно несколькими способами.\n",
    "Первый  -  с помощью метода **read**. Он читает весь файл целиком, если был вызван без аргументов, и **n** символов, если был вызван с аргументом (целым числом n):"
   ]
  },
  {
   "cell_type": "code",
   "execution_count": 24,
   "metadata": {},
   "outputs": [
    {
     "name": "stdout",
     "output_type": "stream",
     "text": [
      "Hello\n",
      "Я на позиции: 5\n"
     ]
    }
   ],
   "source": [
    "my_file = open('data.txt')\n",
    "print(my_file .read(5))\n",
    "print (f\"Я на позиции: {my_file.tell()}\" )\n",
    "my_file.close()"
   ]
  },
  {
   "cell_type": "markdown",
   "metadata": {},
   "source": [
    " Для того чтобы узнать позицию указателя можно использовать метод **tell()**. Метод tell() сообщает в скольких байтах от начала файла мы сейчас находимся. Чтобы перейти на нужную позицию, следует использовать другой метод - **seek()**.\n",
    " \n",
    "     my_file.seek(offset, [from])\n",
    "     \n",
    "Аргумент **offset** указывает на сколько байт перейти.  Опциональный аргумент **from** означает позицию, с которой начинается движение. 0 - означает начало файла, 1 нынешняя позиция, 2 - конец файла."
   ]
  },
  {
   "cell_type": "code",
   "execution_count": 33,
   "metadata": {},
   "outputs": [
    {
     "name": "stdout",
     "output_type": "stream",
     "text": [
      "Hel\n",
      "Hello\n",
      "world\n"
     ]
    }
   ],
   "source": [
    "my_file = open('data.txt')\n",
    "print(my_file .read(3))\n",
    "# Возвращаемся в начало\n",
    "my_file.seek(0)\n",
    "print(my_file.read(11))"
   ]
  },
  {
   "cell_type": "markdown",
   "metadata": {},
   "source": [
    "Ещё один способ прочитать информацию - считывать построчно, воспользовавшись циклом for:"
   ]
  },
  {
   "cell_type": "code",
   "execution_count": 10,
   "metadata": {},
   "outputs": [
    {
     "name": "stdout",
     "output_type": "stream",
     "text": [
      "Hello\n",
      "world\n"
     ]
    }
   ],
   "source": [
    "f = open('data.txt')\n",
    "for line in f:\n",
    "    print(line, end =\"\" )"
   ]
  },
  {
   "cell_type": "markdown",
   "metadata": {},
   "source": [
    "Однако, лучшим выбором будет **итератор файла**. В этом случае функцией **open** создается временный объект файла, содержимое которого автоматически будет читаться итератором и возвращаться по одной\n",
    "строке в каждой итерации цикла. Обычно такой способ компактнее, эффективнее использует память и может оказаться быстрее некоторых других вариантов (конечно, это зависит от множества параметров)."
   ]
  },
  {
   "cell_type": "code",
   "execution_count": 12,
   "metadata": {},
   "outputs": [
    {
     "name": "stdout",
     "output_type": "stream",
     "text": [
      "Hello\n",
      "world\n"
     ]
    }
   ],
   "source": [
    "for line in open('data.txt'): # Используйте итераторы, а не методы чтения\n",
    "    print(line, end='')"
   ]
  },
  {
   "cell_type": "markdown",
   "metadata": {},
   "source": [
    "**Пример**\n",
    "\n",
    "Предположим, есть файл с данными клиентов банка (пока не рассматриваем чтение из базы данных). В качестве простого примера воьзьмем txt-файл следующего содержания:\n",
    "\n",
    "lastname,age,debt,occupation\n",
    "\n",
    "Adrianov,25,30000,artist\n",
    "\n",
    "Belkin,42,4000,programmer\n",
    "\n",
    "Koltunov,32,100,sportsman"
   ]
  },
  {
   "cell_type": "code",
   "execution_count": 41,
   "metadata": {},
   "outputs": [
    {
     "name": "stdout",
     "output_type": "stream",
     "text": [
      "lastname,age,debt,occupation\n",
      "\n",
      "['Adrianov', '25', '30000', 'artist']\n",
      "['Belkin', '42', '4000', 'programmer']\n",
      "['Koltunov', '32', '100', 'sportsman']\n"
     ]
    }
   ],
   "source": [
    "credit_history_file = open('credit.txt', 'r')\n",
    "\n",
    "print(credit_history_file.readline())\n",
    "\n",
    "for line in credit_history_file:\n",
    "    line = line.strip().split(\",\")\n",
    "    \n",
    "    print(line)"
   ]
  },
  {
   "cell_type": "code",
   "execution_count": 47,
   "metadata": {},
   "outputs": [
    {
     "name": "stdout",
     "output_type": "stream",
     "text": [
      "lastname,age,debt,occupation\n",
      "\n",
      "{'Adrianov': (25, 30000, 'artist'), 'Belkin': (42, 4000, 'programmer'), 'Koltunov': (32, 100, 'sportsman')}\n"
     ]
    }
   ],
   "source": [
    "credit_history_file.seek(0)\n",
    "\n",
    "first_line = credit_history_file.readline()\n",
    "print(first_line)\n",
    "\n",
    "credit_history_dict = {}\n",
    "for line in credit_history_file:\n",
    "    lastname, age, debt, occupation = line.strip().split(\",\")\n",
    "    credit_history_dict[lastname] = (int(age), \n",
    "                                     int(debt), \n",
    "                                     occupation) \n",
    "print(credit_history_dict)\n",
    "    \n",
    "credit_history_file.close()"
   ]
  },
  {
   "cell_type": "code",
   "execution_count": null,
   "metadata": {},
   "outputs": [],
   "source": []
  }
 ],
 "metadata": {
  "kernelspec": {
   "display_name": "Python 3",
   "language": "python",
   "name": "python3"
  },
  "language_info": {
   "codemirror_mode": {
    "name": "ipython",
    "version": 3
   },
   "file_extension": ".py",
   "mimetype": "text/x-python",
   "name": "python",
   "nbconvert_exporter": "python",
   "pygments_lexer": "ipython3",
   "version": "3.7.1"
  }
 },
 "nbformat": 4,
 "nbformat_minor": 2
}
