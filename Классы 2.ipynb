{
 "cells": [
  {
   "cell_type": "markdown",
   "metadata": {},
   "source": [
    "Свойства класса\n",
    "------\n",
    "\n",
    "Механизм, известный как свойства, обеспечивает в классах еще\n",
    "один способ определения методов, вызываемых автоматически при обращении\n",
    "или присваивании атрибутам экземпляра. \n",
    "\n",
    "Свойства  можно создать вызовом встроенной функции **property**, которой передаются три метода (обработчики операций чтения, присваивания\n",
    "и удаления), и строкой документирования – если в каком-либо аргументе передается значение **None**, следовательно, эта операция не поддерживается. Определение свойств обычно производится на верхнем уровне в инструкции **class**"
   ]
  },
  {
   "cell_type": "markdown",
   "metadata": {},
   "source": [
    "Декораторы\n",
    "-----"
   ]
  },
  {
   "cell_type": "code",
   "execution_count": 1,
   "metadata": {},
   "outputs": [
    {
     "ename": "AttributeError",
     "evalue": "can't set attribute",
     "output_type": "error",
     "traceback": [
      "\u001b[1;31m---------------------------------------------------------------------------\u001b[0m",
      "\u001b[1;31mAttributeError\u001b[0m                            Traceback (most recent call last)",
      "\u001b[1;32m<ipython-input-1-8dd85732e032>\u001b[0m in \u001b[0;36m<module>\u001b[1;34m\u001b[0m\n\u001b[0;32m     10\u001b[0m \u001b[0mmine\u001b[0m \u001b[1;33m=\u001b[0m \u001b[0mMine\u001b[0m\u001b[1;33m(\u001b[0m\u001b[1;33m)\u001b[0m\u001b[1;33m\u001b[0m\u001b[1;33m\u001b[0m\u001b[0m\n\u001b[0;32m     11\u001b[0m \u001b[0mmine\u001b[0m\u001b[1;33m.\u001b[0m\u001b[0mprop\u001b[0m  \u001b[1;31m# some value\u001b[0m\u001b[1;33m\u001b[0m\u001b[1;33m\u001b[0m\u001b[0m\n\u001b[1;32m---> 12\u001b[1;33m \u001b[0mmine\u001b[0m\u001b[1;33m.\u001b[0m\u001b[0mprop\u001b[0m \u001b[1;33m=\u001b[0m \u001b[1;34m'other value'\u001b[0m  \u001b[1;31m# AttributeError\u001b[0m\u001b[1;33m\u001b[0m\u001b[1;33m\u001b[0m\u001b[0m\n\u001b[0m\u001b[0;32m     13\u001b[0m \u001b[1;32mdel\u001b[0m \u001b[0mmine\u001b[0m\u001b[1;33m.\u001b[0m\u001b[0mprop\u001b[0m  \u001b[1;31m# AttributeError\u001b[0m\u001b[1;33m\u001b[0m\u001b[1;33m\u001b[0m\u001b[0m\n",
      "\u001b[1;31mAttributeError\u001b[0m: can't set attribute"
     ]
    }
   ],
   "source": [
    "class Mine(object):\n",
    "\n",
    "        def __init__(self):\n",
    "            self._x = 'some value'\n",
    "\n",
    "        @property\n",
    "        def prop(self):\n",
    "            return self._x\n",
    "\n",
    "mine = Mine()\n",
    "mine.prop  # some value\n",
    "mine.prop = 'other value'  # AttributeError\n",
    "del mine.prop  # AttributeError"
   ]
  },
  {
   "cell_type": "markdown",
   "metadata": {},
   "source": [
    "Абстрактным называется класс, который содержит один и более абстрактных методов. Абстрактным называется объявленный, но не реализованный метод. Абстрактные классы не могут быть инстанциированы, от них нужно унаследовать, реализовать все их абстрактные методы и только тогда можно создать экземпляр такого класса. В Python отсутствует встроенная поддержка абстрактных классов, для этой цели используется модуль abc (Abstract Base Class)"
   ]
  }
 ],
 "metadata": {
  "kernelspec": {
   "display_name": "Python 3",
   "language": "python",
   "name": "python3"
  },
  "language_info": {
   "codemirror_mode": {
    "name": "ipython",
    "version": 3
   },
   "file_extension": ".py",
   "mimetype": "text/x-python",
   "name": "python",
   "nbconvert_exporter": "python",
   "pygments_lexer": "ipython3",
   "version": "3.7.1"
  }
 },
 "nbformat": 4,
 "nbformat_minor": 2
}
